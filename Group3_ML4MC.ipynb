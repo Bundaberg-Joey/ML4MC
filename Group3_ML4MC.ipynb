{
  "nbformat": 4,
  "nbformat_minor": 0,
  "metadata": {
    "colab": {
      "name": "Group3-ML4MC.ipynb",
      "provenance": [],
      "mount_file_id": "1UKbBxLJRwLpcBsB02sEUroqySUdLpyhe",
      "authorship_tag": "ABX9TyOKUfO9VWUXTRkp//peujI7",
      "include_colab_link": true
    },
    "kernelspec": {
      "name": "python3",
      "display_name": "Python 3"
    },
    "language_info": {
      "name": "python"
    }
  },
  "cells": [
    {
      "cell_type": "markdown",
      "metadata": {
        "id": "view-in-github",
        "colab_type": "text"
      },
      "source": [
        "<a href=\"https://colab.research.google.com/github/billalsohail/ML4MC/blob/main/Group3_ML4MC.ipynb\" target=\"_parent\"><img src=\"https://colab.research.google.com/assets/colab-badge.svg\" alt=\"Open In Colab\"/></a>"
      ]
    },
    {
      "cell_type": "code",
      "metadata": {
        "colab": {
          "base_uri": "https://localhost:8080/"
        },
        "id": "V8ZkDUdOfBAK",
        "outputId": "a1dc0d35-fe3e-4fb8-e4bf-c24dd2703850"
      },
      "source": [
        "from google.colab import drive\n",
        "drive.mount('/content/drive')\n",
        "#Here I am connecting my Google drive where the data is stored to this notebook"
      ],
      "execution_count": 6,
      "outputs": [
        {
          "output_type": "stream",
          "text": [
            "Drive already mounted at /content/drive; to attempt to forcibly remount, call drive.mount(\"/content/drive\", force_remount=True).\n"
          ],
          "name": "stdout"
        }
      ]
    },
    {
      "cell_type": "code",
      "metadata": {
        "colab": {
          "base_uri": "https://localhost:8080/"
        },
        "id": "g6xUfVSQghnv",
        "outputId": "94ca1c4a-8950-46ed-b883-df0ab4e51b52"
      },
      "source": [
        "%cd '/content/drive/MyDrive/ColabNotebooks'\n",
        "#This command has now set the current directory to where the data is stored"
      ],
      "execution_count": 11,
      "outputs": [
        {
          "output_type": "stream",
          "text": [
            "/content/drive/MyDrive/ColabNotebooks\n"
          ],
          "name": "stdout"
        }
      ]
    },
    {
      "cell_type": "code",
      "metadata": {
        "colab": {
          "base_uri": "https://localhost:8080/"
        },
        "id": "AzwTTXIagmmj",
        "outputId": "566152c3-f09e-4441-afa1-24cd80be07c5"
      },
      "source": [
        "ls \n",
        "#This command gives us a list of the contents of the current directory - we have the folder (directory) which contains the data as well as this notebook"
      ],
      "execution_count": 10,
      "outputs": [
        {
          "output_type": "stream",
          "text": [
            "\u001b[0m\u001b[01;34mData\u001b[0m/  Group3-ML4MC.ipynb\n"
          ],
          "name": "stdout"
        }
      ]
    },
    {
      "cell_type": "code",
      "metadata": {
        "id": "o7eOE6efhci4"
      },
      "source": [
        ""
      ],
      "execution_count": null,
      "outputs": []
    }
  ]
}