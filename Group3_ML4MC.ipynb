{
  "nbformat": 4,
  "nbformat_minor": 0,
  "metadata": {
    "colab": {
      "name": "Group3-ML4MC.ipynb",
      "provenance": [],
      "mount_file_id": "1UKbBxLJRwLpcBsB02sEUroqySUdLpyhe",
      "authorship_tag": "ABX9TyPpD1/OBfYsyHO+J+Yk8sWn",
      "include_colab_link": true
    },
    "kernelspec": {
      "name": "python3",
      "display_name": "Python 3"
    },
    "language_info": {
      "name": "python"
    }
  },
  "cells": [
    {
      "cell_type": "markdown",
      "metadata": {
        "id": "view-in-github",
        "colab_type": "text"
      },
      "source": [
        "<a href=\"https://colab.research.google.com/github/billalsohail/ML4MC/blob/main/Group3_ML4MC.ipynb\" target=\"_parent\"><img src=\"https://colab.research.google.com/assets/colab-badge.svg\" alt=\"Open In Colab\"/></a>"
      ]
    },
    {
      "cell_type": "code",
      "metadata": {
        "colab": {
          "base_uri": "https://localhost:8080/"
        },
        "id": "V8ZkDUdOfBAK",
        "outputId": "749dee3e-ad1b-4434-b5e3-957f9719dd09"
      },
      "source": [
        "from google.colab import drive\n",
        "drive.mount('/content/drive')\n",
        "#Here I am connecting my Google drive where the data is stored to this notebook"
      ],
      "execution_count": 1,
      "outputs": [
        {
          "output_type": "stream",
          "text": [
            "Mounted at /content/drive\n"
          ],
          "name": "stdout"
        }
      ]
    },
    {
      "cell_type": "code",
      "metadata": {
        "colab": {
          "base_uri": "https://localhost:8080/"
        },
        "id": "g6xUfVSQghnv",
        "outputId": "2a4b29f1-f564-4e30-8cd9-0cfa3838d689"
      },
      "source": [
        "%cd '/content/drive/MyDrive/ColabNotebooks'\n",
        "#This command has now set the current directory to where the data is stored"
      ],
      "execution_count": 2,
      "outputs": [
        {
          "output_type": "stream",
          "text": [
            "/content/drive/MyDrive/ColabNotebooks\n"
          ],
          "name": "stdout"
        }
      ]
    },
    {
      "cell_type": "code",
      "metadata": {
        "colab": {
          "base_uri": "https://localhost:8080/"
        },
        "id": "AzwTTXIagmmj",
        "outputId": "802cfb78-d5eb-43d2-b020-822794f8f7ec"
      },
      "source": [
        "%ls \n",
        "#This command gives us a list of the contents of the current directory - we have the folder (directory) which contains the data as well as this notebook"
      ],
      "execution_count": 4,
      "outputs": [
        {
          "output_type": "stream",
          "text": [
            "\u001b[0m\u001b[01;34mData\u001b[0m/  Group3-ML4MC.ipynb\n"
          ],
          "name": "stdout"
        }
      ]
    },
    {
      "cell_type": "code",
      "metadata": {
        "id": "o7eOE6efhci4",
        "outputId": "2f8c0ebd-48b0-4c88-b773-c36f24399282",
        "colab": {
          "base_uri": "https://localhost:8080/"
        }
      },
      "source": [
        "print(\"Hello World!\")"
      ],
      "execution_count": 5,
      "outputs": [
        {
          "output_type": "stream",
          "text": [
            "Hello World!\n"
          ],
          "name": "stdout"
        }
      ]
    },
    {
      "cell_type": "code",
      "metadata": {
        "id": "XbFKpcXzmRbZ"
      },
      "source": [
        ""
      ],
      "execution_count": null,
      "outputs": []
    }
  ]
}