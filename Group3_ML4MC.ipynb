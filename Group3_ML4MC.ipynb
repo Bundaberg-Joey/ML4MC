{
  "nbformat": 4,
  "nbformat_minor": 0,
  "metadata": {
    "colab": {
      "name": "Group3-ML4MC.ipynb",
      "provenance": [],
      "mount_file_id": "1UKbBxLJRwLpcBsB02sEUroqySUdLpyhe",
      "authorship_tag": "ABX9TyMieXf/xaB/bPukupF87uEA",
      "include_colab_link": true
    },
    "kernelspec": {
      "name": "python3",
      "display_name": "Python 3"
    },
    "language_info": {
      "name": "python"
    }
  },
  "cells": [
    {
      "cell_type": "markdown",
      "metadata": {
        "id": "view-in-github",
        "colab_type": "text"
      },
      "source": [
        "<a href=\"https://colab.research.google.com/github/billalsohail/ML4MC/blob/main/Group3_ML4MC.ipynb\" target=\"_parent\"><img src=\"https://colab.research.google.com/assets/colab-badge.svg\" alt=\"Open In Colab\"/></a>"
      ]
    },
    {
      "cell_type": "code",
      "metadata": {
        "colab": {
          "base_uri": "https://localhost:8080/"
        },
        "id": "V8ZkDUdOfBAK",
        "outputId": "749dee3e-ad1b-4434-b5e3-957f9719dd09"
      },
      "source": [
        "from google.colab import drive\n",
        "drive.mount('/content/drive')\n",
        "#Here I am connecting my Google drive where the data is stored to this notebook"
      ],
      "execution_count": null,
      "outputs": [
        {
          "output_type": "stream",
          "text": [
            "Mounted at /content/drive\n"
          ],
          "name": "stdout"
        }
      ]
    },
    {
      "cell_type": "code",
      "metadata": {
        "colab": {
          "base_uri": "https://localhost:8080/"
        },
        "id": "g6xUfVSQghnv",
        "outputId": "2a4b29f1-f564-4e30-8cd9-0cfa3838d689"
      },
      "source": [
        "%cd '/content/drive/MyDrive/ColabNotebooks'\n",
        "#This command has now set the current directory to where the data is stored"
      ],
      "execution_count": null,
      "outputs": [
        {
          "output_type": "stream",
          "text": [
            "/content/drive/MyDrive/ColabNotebooks\n"
          ],
          "name": "stdout"
        }
      ]
    },
    {
      "cell_type": "code",
      "metadata": {
        "colab": {
          "base_uri": "https://localhost:8080/"
        },
        "id": "AzwTTXIagmmj",
        "outputId": "802cfb78-d5eb-43d2-b020-822794f8f7ec"
      },
      "source": [
        "%ls \n",
        "#This command gives us a list of the contents of the current directory - we have the folder (directory) which contains the data as well as this notebook"
      ],
      "execution_count": null,
      "outputs": [
        {
          "output_type": "stream",
          "text": [
            "\u001b[0m\u001b[01;34mData\u001b[0m/  Group3-ML4MC.ipynb\n"
          ],
          "name": "stdout"
        }
      ]
    },
    {
      "cell_type": "code",
      "metadata": {
        "id": "o7eOE6efhci4",
        "colab": {
          "base_uri": "https://localhost:8080/"
        },
        "outputId": "2f8c0ebd-48b0-4c88-b773-c36f24399282"
      },
      "source": [
        "print(\"Hello World!\")"
      ],
      "execution_count": null,
      "outputs": [
        {
          "output_type": "stream",
          "text": [
            "Hello World!\n"
          ],
          "name": "stdout"
        }
      ]
    },
    {
      "cell_type": "markdown",
      "metadata": {
        "id": "qpflNWyGnIrG"
      },
      "source": [
        "# The Machine learning starts here..."
      ]
    },
    {
      "cell_type": "markdown",
      "metadata": {
        "id": "IIn4h3qtqb6b"
      },
      "source": [
        "Everything starts with importing modules - I recommend leaving this outside our separate sections so we have consistent loading of modules and it can be run once at the start of your session. "
      ]
    },
    {
      "cell_type": "code",
      "metadata": {
        "id": "XbFKpcXzmRbZ"
      },
      "source": [
        "import numpy as np\n",
        "import matplotlib as plt \n",
        "import scipy \n",
        "import ase \n",
        "import os, shutil, sys \n",
        "#And many more to come ..."
      ],
      "execution_count": null,
      "outputs": []
    },
    {
      "cell_type": "markdown",
      "metadata": {
        "id": "iUH5GibjrgB1"
      },
      "source": [
        "# Billal"
      ]
    },
    {
      "cell_type": "code",
      "metadata": {
        "id": "wKd-VV7IqabV"
      },
      "source": [
        ""
      ],
      "execution_count": null,
      "outputs": []
    },
    {
      "cell_type": "markdown",
      "metadata": {
        "id": "33bJOEq8rjB5"
      },
      "source": [
        "# Calum"
      ]
    },
    {
      "cell_type": "code",
      "metadata": {
        "id": "LiaEW1ybqako"
      },
      "source": [
        ""
      ],
      "execution_count": null,
      "outputs": []
    },
    {
      "cell_type": "markdown",
      "metadata": {
        "id": "HOl050M3rlK7"
      },
      "source": [
        "# Reece"
      ]
    },
    {
      "cell_type": "code",
      "metadata": {
        "id": "-w7Rc5LMrnXy"
      },
      "source": [
        ""
      ],
      "execution_count": null,
      "outputs": []
    },
    {
      "cell_type": "markdown",
      "metadata": {
        "id": "TwJI9rerrn-t"
      },
      "source": [
        "# Guanming"
      ]
    },
    {
      "cell_type": "code",
      "metadata": {
        "id": "y0fbQ5Bqrrev"
      },
      "source": [
        ""
      ],
      "execution_count": null,
      "outputs": []
    },
    {
      "cell_type": "markdown",
      "metadata": {
        "id": "uGLalzE_rr8Y"
      },
      "source": [
        "# Hongyang"
      ]
    },
    {
      "cell_type": "code",
      "metadata": {
        "id": "ks_rab1yrv6L"
      },
      "source": [
        ""
      ],
      "execution_count": null,
      "outputs": []
    },
    {
      "cell_type": "markdown",
      "metadata": {
        "id": "EKdCtMuarxBA"
      },
      "source": [
        "# Joseph"
      ]
    },
    {
      "cell_type": "code",
      "metadata": {
        "id": "W-1A0zrHrzqM"
      },
      "source": [
        ""
      ],
      "execution_count": null,
      "outputs": []
    },
    {
      "cell_type": "markdown",
      "metadata": {
        "id": "kWKNvMYor2YU"
      },
      "source": [
        "#Yining "
      ]
    },
    {
      "cell_type": "code",
      "metadata": {
        "id": "JS0f9ZjTr7Yr"
      },
      "source": [
        ""
      ],
      "execution_count": null,
      "outputs": []
    }
  ]
}