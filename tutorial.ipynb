{
 "cells": [
  {
   "cell_type": "markdown",
   "metadata": {},
   "source": [
    "# Tutorial"
   ]
  },
  {
   "cell_type": "markdown",
   "metadata": {},
   "source": [
    "The tutorial provides a simple introduction to core pandas functionality, applied to extract data from our published datasets. For a general and more in-depth introduction to pandas, we recommend to follow some of the tutorials: \n",
    "https://pandas.pydata.org/pandas-docs/stable/getting_started/tutorials.html\n",
    "\n",
    "A preliminary for all the following steps is to have python with the packages **pandas**, **numpy**, **matplotlib** from the SciPy stack installed. If this is not the case four your system, we recommend the simple Anaconda installation: https://pandas.pydata.org/pandas-docs/stable/install.html\n",
    "\n",
    "One way to then follow the tutorial is by executing the python code in an interactive ipython console, just navigate to the folder containing the downloaded dataframe files (ending in .json) and type **ipython** in a terminal. \n",
    "\n",
    "A nicer way however is to use jupyter notebook (https://jupyter.org/install), which allows you to open and execute all cells of python-code directly within your browser-window. When you execute a cells, the output you already see (since we executed the cells in the notebook) will then reappear directly beneath. If you installed python via Anaconda, you already have the necessary package, just open a terminal and type **jupyter notebook**. A browser-window then opens up, showing the jupyter file-browser, which allows you to navigate to the folder containing the extracted archive containing the datasets. Once in this folder, click on the file **tutorial.ipynb**. Once the notebook has opened, you can execute cells of python-code by clicking on them and hitting the **Run** button."
   ]
  },
  {
   "cell_type": "code",
   "execution_count": 1,
   "metadata": {
    "collapsed": true
   },
   "outputs": [],
   "source": [
    "# This is the first cell of code, importing the necessary packages.\n",
    "# Should this raise an error on your system, you might still need to install these packages, see above. \n",
    "\n",
    "import os\n",
    "from copy import deepcopy\n",
    "import numpy as np\n",
    "import pandas as pd\n",
    "import matplotlib.pyplot as plt\n",
    "\n",
    "pd.set_option('display.width',5000)\n",
    "pd.set_option('display.max_columns',200)"
   ]
  },
  {
   "cell_type": "markdown",
   "metadata": {},
   "source": [
    "## 1. Loading and inspecting the data\n",
    "\n",
    "The final datasets are provided in 3 pandas dataframes: **df_62k.json**, **df_31k.json**, **df_5k.json**.\n",
    "In the following, we will focus on **df_62k.json**, but since the other dataframes are only subsets with similar structure, all operations can also be performed when loading them instead.\n",
    "\n",
    "Pandas provides data in a tabular format, similar to common spreadsheet software. In our case, each molecular entry is stored in a separate row, while the properties are stored in columns, which are described in table 2 of the publication.  "
   ]
  },
  {
   "cell_type": "code",
   "execution_count": 2,
   "metadata": {
    "collapsed": false
   },
   "outputs": [
    {
     "name": "stdout",
     "output_type": "stream",
     "text": [
      "(61489, 29)\n"
     ]
    }
   ],
   "source": [
    "# Let's first load the dataframe into memory, this might take a moment.\n",
    "# orient='split' keeps the column order as specified in table 2 of the publication.\n",
    "\n",
    "df_62k = pd.read_json('df_62k.json', orient='split') \n",
    "\n",
    "# Shape of the tabular dataframe returned in a tuple: (<number_of_rows>, <number_of_columns>)\n",
    "print(df_62k.shape)"
   ]
  },
  {
   "cell_type": "code",
   "execution_count": 3,
   "metadata": {
    "collapsed": false
   },
   "outputs": [
    {
     "data": {
      "text/plain": [
       "Index(['refcode_csd', 'canonical_smiles', 'inchi', 'number_of_atoms', 'xyz_pbe_relaxed', 'energies_occ_pbe', 'energies_occ_pbe0_vac_tier2', 'energies_occ_pbe0_water', 'energies_occ_pbe0_vac_tzvp', 'energies_occ_pbe0_vac_qzvp', 'energies_occ_gw_tzvp', 'energies_occ_gw_qzvp', 'cbs_occ_gw', 'energies_unocc_pbe', 'energies_unocc_pbe0_vac_tier2', 'energies_unocc_pbe0_water', 'energies_unocc_pbe0_vac_tzvp', 'energies_unocc_pbe0_vac_qzvp', 'energies_unocc_gw_tzvp', 'energies_unocc_gw_qzvp', 'cbs_unocc_gw', 'total_energy_pbe', 'total_energy_pbe0_vac_tier2', 'total_energy_pbe0_water', 'total_energy_pbe0_vac_tzvp', 'total_energy_pbe0_vac_qzvp', 'hirshfeld_pbe', 'hirshfeld_pbe0_vac_tier2', 'hirshfeld_pbe0_water'], dtype='object')"
      ]
     },
     "execution_count": 3,
     "metadata": {},
     "output_type": "execute_result"
    }
   ],
   "source": [
    "df_62k.columns"
   ]
  },
  {
   "cell_type": "code",
   "execution_count": 7,
   "metadata": {
    "collapsed": false,
    "scrolled": true
   },
   "outputs": [
    {
     "name": "stdout",
     "output_type": "stream",
     "text": [
      "(30876, 29)\n",
      "(5239, 29)\n"
     ]
    }
   ],
   "source": [
    "# Let's check the same for the other dataframes\n",
    "\n",
    "df_31k = pd.read_json(\"df_31k.json\", orient='split') \n",
    "print(df_31k.shape)\n",
    "\n",
    "df_5k = pd.read_json(\"df_5k.json\", orient='split') \n",
    "print(df_5k.shape)"
   ]
  },
  {
   "cell_type": "code",
   "execution_count": 8,
   "metadata": {
    "collapsed": false,
    "scrolled": true
   },
   "outputs": [
    {
     "data": {
      "text/plain": [
       "['refcode_csd',\n",
       " 'canonical_smiles',\n",
       " 'inchi',\n",
       " 'number_of_atoms',\n",
       " 'xyz_pbe_relaxed',\n",
       " 'energies_occ_pbe',\n",
       " 'energies_occ_pbe0_vac_tier2',\n",
       " 'energies_occ_pbe0_water',\n",
       " 'energies_occ_pbe0_vac_tzvp',\n",
       " 'energies_occ_pbe0_vac_qzvp',\n",
       " 'energies_occ_gw_tzvp',\n",
       " 'energies_occ_gw_qzvp',\n",
       " 'cbs_occ_gw',\n",
       " 'energies_unocc_pbe',\n",
       " 'energies_unocc_pbe0_vac_tier2',\n",
       " 'energies_unocc_pbe0_water',\n",
       " 'energies_unocc_pbe0_vac_tzvp',\n",
       " 'energies_unocc_pbe0_vac_qzvp',\n",
       " 'energies_unocc_gw_tzvp',\n",
       " 'energies_unocc_gw_qzvp',\n",
       " 'cbs_unocc_gw',\n",
       " 'total_energy_pbe',\n",
       " 'total_energy_pbe0_vac_tier2',\n",
       " 'total_energy_pbe0_water',\n",
       " 'total_energy_pbe0_vac_tzvp',\n",
       " 'total_energy_pbe0_vac_qzvp',\n",
       " 'hirshfeld_pbe',\n",
       " 'hirshfeld_pbe0_vac_tier2',\n",
       " 'hirshfeld_pbe0_water']"
      ]
     },
     "execution_count": 8,
     "metadata": {},
     "output_type": "execute_result"
    }
   ],
   "source": [
    "# We are going to go back to the 62k dataframe now, the available columns can be checked by using:\n",
    "df_62k.columns.tolist()"
   ]
  },
  {
   "cell_type": "code",
   "execution_count": 9,
   "metadata": {
    "collapsed": false
   },
   "outputs": [
    {
     "data": {
      "text/html": [
       "<div>\n",
       "<style scoped>\n",
       "    .dataframe tbody tr th:only-of-type {\n",
       "        vertical-align: middle;\n",
       "    }\n",
       "\n",
       "    .dataframe tbody tr th {\n",
       "        vertical-align: top;\n",
       "    }\n",
       "\n",
       "    .dataframe thead th {\n",
       "        text-align: right;\n",
       "    }\n",
       "</style>\n",
       "<table border=\"1\" class=\"dataframe\">\n",
       "  <thead>\n",
       "    <tr style=\"text-align: right;\">\n",
       "      <th></th>\n",
       "      <th>refcode_csd</th>\n",
       "      <th>canonical_smiles</th>\n",
       "      <th>inchi</th>\n",
       "      <th>number_of_atoms</th>\n",
       "      <th>xyz_pbe_relaxed</th>\n",
       "      <th>energies_occ_pbe</th>\n",
       "      <th>energies_occ_pbe0_vac_tier2</th>\n",
       "      <th>energies_occ_pbe0_water</th>\n",
       "      <th>energies_occ_pbe0_vac_tzvp</th>\n",
       "      <th>energies_occ_pbe0_vac_qzvp</th>\n",
       "      <th>energies_occ_gw_tzvp</th>\n",
       "      <th>energies_occ_gw_qzvp</th>\n",
       "      <th>cbs_occ_gw</th>\n",
       "      <th>energies_unocc_pbe</th>\n",
       "      <th>energies_unocc_pbe0_vac_tier2</th>\n",
       "      <th>energies_unocc_pbe0_water</th>\n",
       "      <th>energies_unocc_pbe0_vac_tzvp</th>\n",
       "      <th>energies_unocc_pbe0_vac_qzvp</th>\n",
       "      <th>energies_unocc_gw_tzvp</th>\n",
       "      <th>energies_unocc_gw_qzvp</th>\n",
       "      <th>cbs_unocc_gw</th>\n",
       "      <th>total_energy_pbe</th>\n",
       "      <th>total_energy_pbe0_vac_tier2</th>\n",
       "      <th>total_energy_pbe0_water</th>\n",
       "      <th>total_energy_pbe0_vac_tzvp</th>\n",
       "      <th>total_energy_pbe0_vac_qzvp</th>\n",
       "      <th>hirshfeld_pbe</th>\n",
       "      <th>hirshfeld_pbe0_vac_tier2</th>\n",
       "      <th>hirshfeld_pbe0_water</th>\n",
       "    </tr>\n",
       "  </thead>\n",
       "  <tbody>\n",
       "    <tr>\n",
       "      <th>0</th>\n",
       "      <td>ABAFEQ</td>\n",
       "      <td>Cc1ccc(cc1)S(=O)(=O)N[C@H](c1nnc(o1)SCc1ccc(cc...</td>\n",
       "      <td>InChI=1S/C18H18ClN3O3S2/c1-12-3-9-16(10-4-12)2...</td>\n",
       "      <td>45</td>\n",
       "      <td>45\\n\\nO      39.55724515      33.75271314     ...</td>\n",
       "      <td>[-2759.71553, -2416.30896, -2412.55736, -513.9...</td>\n",
       "      <td>[-2788.05127, -2443.36662, -2439.20276, -526.4...</td>\n",
       "      <td>None</td>\n",
       "      <td>None</td>\n",
       "      <td>None</td>\n",
       "      <td>None</td>\n",
       "      <td>None</td>\n",
       "      <td>None</td>\n",
       "      <td>[-2.17874, -2.01713, -1.96379, -1.76789, -1.57...</td>\n",
       "      <td>[-1.31866, -1.18964, -1.09242, -0.84089, -0.64...</td>\n",
       "      <td>None</td>\n",
       "      <td>None</td>\n",
       "      <td>None</td>\n",
       "      <td>None</td>\n",
       "      <td>None</td>\n",
       "      <td>None</td>\n",
       "      <td>-63908.261677</td>\n",
       "      <td>-63911.485930</td>\n",
       "      <td>NaN</td>\n",
       "      <td>NaN</td>\n",
       "      <td>NaN</td>\n",
       "      <td>[-0.27470711000000003, 0.44228032, -0.26425776...</td>\n",
       "      <td>[-0.29802765000000003, 0.47691104, -0.28757556...</td>\n",
       "      <td>None</td>\n",
       "    </tr>\n",
       "    <tr>\n",
       "      <th>1</th>\n",
       "      <td>ABEDOC</td>\n",
       "      <td>N#CC(=C(c1ccccc1)c1ccccc1)[C@H](c1ccccc1)NS(=O...</td>\n",
       "      <td>InChI=1S/C28H22N2O2S/c29-21-26(27(22-13-5-1-6-...</td>\n",
       "      <td>55</td>\n",
       "      <td>55\\n\\nC       8.74281024      13.44863575     ...</td>\n",
       "      <td>[-2416.32097, -510.97599, -510.93427, -382.106...</td>\n",
       "      <td>[-2443.36734, -523.36541, -523.31866, -392.998...</td>\n",
       "      <td>None</td>\n",
       "      <td>None</td>\n",
       "      <td>None</td>\n",
       "      <td>None</td>\n",
       "      <td>None</td>\n",
       "      <td>None</td>\n",
       "      <td>[-2.98475, -2.17782, -1.85481, -1.79766, -1.75...</td>\n",
       "      <td>[-2.21768, -1.35105, -0.9864400000000001, -0.9...</td>\n",
       "      <td>None</td>\n",
       "      <td>None</td>\n",
       "      <td>None</td>\n",
       "      <td>None</td>\n",
       "      <td>None</td>\n",
       "      <td>None</td>\n",
       "      <td>-47344.131203</td>\n",
       "      <td>-47346.537633</td>\n",
       "      <td>NaN</td>\n",
       "      <td>NaN</td>\n",
       "      <td>NaN</td>\n",
       "      <td>[-0.04383635, 0.0489517, -0.04317942, 0.049465...</td>\n",
       "      <td>[-0.04511281, 0.05043578, -0.04467607, 0.05086...</td>\n",
       "      <td>None</td>\n",
       "    </tr>\n",
       "    <tr>\n",
       "      <th>2</th>\n",
       "      <td>LODZOT</td>\n",
       "      <td>n1ccc(cc1)c1nnc(o1)c1cccs1\\t\\n</td>\n",
       "      <td>InChI=1S/C11H7N3OS/c1-2-9(16-7-1)11-14-13-10(1...</td>\n",
       "      <td>23</td>\n",
       "      <td>23\\n\\nN      23.84904338      42.50577669     ...</td>\n",
       "      <td>[-2412.75371, -513.88451, -382.11294, -382.041...</td>\n",
       "      <td>[-2439.38001, -526.39732, -393.09445, -393.002...</td>\n",
       "      <td>None</td>\n",
       "      <td>None</td>\n",
       "      <td>None</td>\n",
       "      <td>None</td>\n",
       "      <td>None</td>\n",
       "      <td>None</td>\n",
       "      <td>[-3.09055, -2.39404, -1.74667, -0.793040000000...</td>\n",
       "      <td>[-2.34328, -1.5493700000000001, -0.80415]</td>\n",
       "      <td>None</td>\n",
       "      <td>None</td>\n",
       "      <td>None</td>\n",
       "      <td>None</td>\n",
       "      <td>None</td>\n",
       "      <td>None</td>\n",
       "      <td>-28915.979909</td>\n",
       "      <td>-28916.826630</td>\n",
       "      <td>NaN</td>\n",
       "      <td>NaN</td>\n",
       "      <td>NaN</td>\n",
       "      <td>[-0.15366001, 0.01755584, 0.05299325, -0.04774...</td>\n",
       "      <td>[-0.16233532, 0.02121239, 0.05594731, -0.06621...</td>\n",
       "      <td>None</td>\n",
       "    </tr>\n",
       "  </tbody>\n",
       "</table>\n",
       "</div>"
      ],
      "text/plain": [
       "  refcode_csd                                   canonical_smiles                                              inchi  number_of_atoms                                    xyz_pbe_relaxed                                   energies_occ_pbe                        energies_occ_pbe0_vac_tier2 energies_occ_pbe0_water energies_occ_pbe0_vac_tzvp energies_occ_pbe0_vac_qzvp energies_occ_gw_tzvp energies_occ_gw_qzvp cbs_occ_gw                                 energies_unocc_pbe                      energies_unocc_pbe0_vac_tier2 energies_unocc_pbe0_water energies_unocc_pbe0_vac_tzvp energies_unocc_pbe0_vac_qzvp energies_unocc_gw_tzvp energies_unocc_gw_qzvp cbs_unocc_gw  total_energy_pbe  total_energy_pbe0_vac_tier2  total_energy_pbe0_water  total_energy_pbe0_vac_tzvp  total_energy_pbe0_vac_qzvp                                      hirshfeld_pbe                           hirshfeld_pbe0_vac_tier2 hirshfeld_pbe0_water\n",
       "0      ABAFEQ  Cc1ccc(cc1)S(=O)(=O)N[C@H](c1nnc(o1)SCc1ccc(cc...  InChI=1S/C18H18ClN3O3S2/c1-12-3-9-16(10-4-12)2...               45  45\\n\\nO      39.55724515      33.75271314     ...  [-2759.71553, -2416.30896, -2412.55736, -513.9...  [-2788.05127, -2443.36662, -2439.20276, -526.4...                    None                       None                       None                 None                 None       None  [-2.17874, -2.01713, -1.96379, -1.76789, -1.57...  [-1.31866, -1.18964, -1.09242, -0.84089, -0.64...                      None                         None                         None                   None                   None         None     -63908.261677                -63911.485930                      NaN                         NaN                         NaN  [-0.27470711000000003, 0.44228032, -0.26425776...  [-0.29802765000000003, 0.47691104, -0.28757556...                 None\n",
       "1      ABEDOC  N#CC(=C(c1ccccc1)c1ccccc1)[C@H](c1ccccc1)NS(=O...  InChI=1S/C28H22N2O2S/c29-21-26(27(22-13-5-1-6-...               55  55\\n\\nC       8.74281024      13.44863575     ...  [-2416.32097, -510.97599, -510.93427, -382.106...  [-2443.36734, -523.36541, -523.31866, -392.998...                    None                       None                       None                 None                 None       None  [-2.98475, -2.17782, -1.85481, -1.79766, -1.75...  [-2.21768, -1.35105, -0.9864400000000001, -0.9...                      None                         None                         None                   None                   None         None     -47344.131203                -47346.537633                      NaN                         NaN                         NaN  [-0.04383635, 0.0489517, -0.04317942, 0.049465...  [-0.04511281, 0.05043578, -0.04467607, 0.05086...                 None\n",
       "2      LODZOT                     n1ccc(cc1)c1nnc(o1)c1cccs1\\t\\n  InChI=1S/C11H7N3OS/c1-2-9(16-7-1)11-14-13-10(1...               23  23\\n\\nN      23.84904338      42.50577669     ...  [-2412.75371, -513.88451, -382.11294, -382.041...  [-2439.38001, -526.39732, -393.09445, -393.002...                    None                       None                       None                 None                 None       None  [-3.09055, -2.39404, -1.74667, -0.793040000000...          [-2.34328, -1.5493700000000001, -0.80415]                      None                         None                         None                   None                   None         None     -28915.979909                -28916.826630                      NaN                         NaN                         NaN  [-0.15366001, 0.01755584, 0.05299325, -0.04774...  [-0.16233532, 0.02121239, 0.05594731, -0.06621...                 None"
      ]
     },
     "execution_count": 9,
     "metadata": {},
     "output_type": "execute_result"
    }
   ],
   "source": [
    "# To get an impression, let's have a look at the 3 first entries\n",
    "df_62k.head(3)"
   ]
  },
  {
   "cell_type": "markdown",
   "metadata": {},
   "source": [
    "## 2. Selecting and using data"
   ]
  },
  {
   "cell_type": "code",
   "execution_count": 10,
   "metadata": {
    "collapsed": false
   },
   "outputs": [
    {
     "data": {
      "text/html": [
       "<div>\n",
       "<style scoped>\n",
       "    .dataframe tbody tr th:only-of-type {\n",
       "        vertical-align: middle;\n",
       "    }\n",
       "\n",
       "    .dataframe tbody tr th {\n",
       "        vertical-align: top;\n",
       "    }\n",
       "\n",
       "    .dataframe thead th {\n",
       "        text-align: right;\n",
       "    }\n",
       "</style>\n",
       "<table border=\"1\" class=\"dataframe\">\n",
       "  <thead>\n",
       "    <tr style=\"text-align: right;\">\n",
       "      <th></th>\n",
       "      <th>refcode_csd</th>\n",
       "      <th>canonical_smiles</th>\n",
       "      <th>inchi</th>\n",
       "      <th>number_of_atoms</th>\n",
       "      <th>xyz_pbe_relaxed</th>\n",
       "      <th>energies_occ_pbe</th>\n",
       "      <th>energies_occ_pbe0_vac_tier2</th>\n",
       "      <th>energies_occ_pbe0_water</th>\n",
       "      <th>energies_occ_pbe0_vac_tzvp</th>\n",
       "      <th>energies_occ_pbe0_vac_qzvp</th>\n",
       "      <th>energies_occ_gw_tzvp</th>\n",
       "      <th>energies_occ_gw_qzvp</th>\n",
       "      <th>cbs_occ_gw</th>\n",
       "      <th>energies_unocc_pbe</th>\n",
       "      <th>energies_unocc_pbe0_vac_tier2</th>\n",
       "      <th>energies_unocc_pbe0_water</th>\n",
       "      <th>energies_unocc_pbe0_vac_tzvp</th>\n",
       "      <th>energies_unocc_pbe0_vac_qzvp</th>\n",
       "      <th>energies_unocc_gw_tzvp</th>\n",
       "      <th>energies_unocc_gw_qzvp</th>\n",
       "      <th>cbs_unocc_gw</th>\n",
       "      <th>total_energy_pbe</th>\n",
       "      <th>total_energy_pbe0_vac_tier2</th>\n",
       "      <th>total_energy_pbe0_water</th>\n",
       "      <th>total_energy_pbe0_vac_tzvp</th>\n",
       "      <th>total_energy_pbe0_vac_qzvp</th>\n",
       "      <th>hirshfeld_pbe</th>\n",
       "      <th>hirshfeld_pbe0_vac_tier2</th>\n",
       "      <th>hirshfeld_pbe0_water</th>\n",
       "    </tr>\n",
       "  </thead>\n",
       "  <tbody>\n",
       "    <tr>\n",
       "      <th>19024</th>\n",
       "      <td>AJAPIL01</td>\n",
       "      <td>NC(=[NH2])[NH]\\t\\n</td>\n",
       "      <td>InChI=1S/CH5N3/c2-1(3)4/h2H,3-4H2\\n</td>\n",
       "      <td>9</td>\n",
       "      <td>9\\n\\nN      32.65128843      33.07193319      ...</td>\n",
       "      <td>[-381.52478, -381.2835, -379.73995, -271.66104...</td>\n",
       "      <td>[-392.38663, -392.12332, -390.60032, -281.1358...</td>\n",
       "      <td>[-392.31957, -392.17859, -390.96013, -281.4096...</td>\n",
       "      <td>[-392.2818, -392.00366, -390.45821, -280.96267...</td>\n",
       "      <td>[-392.39372, -392.12995, -390.59389, -281.1282...</td>\n",
       "      <td>[-29.0861, -26.5238, -25.3701, -19.28, -17.593...</td>\n",
       "      <td>[-29.2376, -26.7309, -25.4658, -19.4846, -17.8...</td>\n",
       "      <td>[-29.34176, -26.87328, -25.53159, -19.62526, -...</td>\n",
       "      <td>[-0.6972900000000001, -0.10457000000000001]</td>\n",
       "      <td>[-0.02426]</td>\n",
       "      <td>[0.19678]</td>\n",
       "      <td>[0.7001400000000001]</td>\n",
       "      <td>[0.31521000000000005]</td>\n",
       "      <td>[2.4485, 3.4302, 3.8428, 4.2335, 4.8057, 5.285...</td>\n",
       "      <td>[1.7666, 2.6479, 2.9262, 3.3485, 3.785, 4.1607...</td>\n",
       "      <td>[1.29779, 2.11007, 2.29604, 2.74006, 3.08327, ...</td>\n",
       "      <td>-5589.494238</td>\n",
       "      <td>-5589.572454</td>\n",
       "      <td>-5589.924999</td>\n",
       "      <td>-5589.019847</td>\n",
       "      <td>-5589.493478</td>\n",
       "      <td>[-0.18999889, 0.11859838, 0.12313707, 0.125394...</td>\n",
       "      <td>[-0.20157954, 0.12216237, 0.12711175, 0.142446...</td>\n",
       "      <td>[-0.2043295, 0.13921183, 0.12807464, 0.1419790...</td>\n",
       "    </tr>\n",
       "    <tr>\n",
       "      <th>21168</th>\n",
       "      <td>BMLTAA</td>\n",
       "      <td>O=C1SC(=O)C(=C1Br)Br\\t\\n</td>\n",
       "      <td>InChI=1S/C4Br2O2S/c5-1-2(6)4(8)9-3(1)7\\n</td>\n",
       "      <td>9</td>\n",
       "      <td>9\\n\\nBr      28.74660099      30.81490300     ...</td>\n",
       "      <td>[-13527.40318, -13527.40318, -2412.70493, -173...</td>\n",
       "      <td>[-13590.64178, -13590.64178, -2439.44676, -176...</td>\n",
       "      <td>[-13590.37374, -13590.37374, -2439.2899, -1760...</td>\n",
       "      <td>[-13588.19681, -13588.19273, -2441.32444, -176...</td>\n",
       "      <td>[-13592.0134, -13592.01258, -2439.56584, -1763...</td>\n",
       "      <td>[-26.7024, -24.5159, -24.2016, -22.1171, -20.6...</td>\n",
       "      <td>[-26.8382, -24.8399, -24.5301, -22.3943, -20.7...</td>\n",
       "      <td>[-27.01647, -25.26523, -24.96134, -22.7582, -2...</td>\n",
       "      <td>[-4.45013, -2.27398, -2.10196, -1.79459, -0.69...</td>\n",
       "      <td>[-3.68712, -1.28635, -1.1567, -0.76307]</td>\n",
       "      <td>[-3.52131, -0.93564, -0.9155700000000001, -0.6...</td>\n",
       "      <td>[-3.66136, -1.23771, -1.09122, -0.6568]</td>\n",
       "      <td>[-3.6739100000000002, -1.30218, -1.16527, -0.7...</td>\n",
       "      <td>[-1.8911, 0.6906, 0.7369, 0.8918, 2.1133, 2.49...</td>\n",
       "      <td>[-2.1297, 0.35660000000000003, 0.3989000000000...</td>\n",
       "      <td>[-2.44292, -0.08186, -0.04481, 0.2962700000000...</td>\n",
       "      <td>-161927.890218</td>\n",
       "      <td>-161931.725357</td>\n",
       "      <td>-161931.882242</td>\n",
       "      <td>-161704.701061</td>\n",
       "      <td>-161868.861493</td>\n",
       "      <td>[0.07464099, 0.07464099, -0.0235071, 0.1042489...</td>\n",
       "      <td>[0.06710962, 0.06710962, -0.01665122, 0.123186...</td>\n",
       "      <td>[0.07693667, 0.07693667, -0.00933193, 0.134252...</td>\n",
       "    </tr>\n",
       "  </tbody>\n",
       "</table>\n",
       "</div>"
      ],
      "text/plain": [
       "      refcode_csd          canonical_smiles                                     inchi  number_of_atoms                                    xyz_pbe_relaxed                                   energies_occ_pbe                        energies_occ_pbe0_vac_tier2                            energies_occ_pbe0_water                         energies_occ_pbe0_vac_tzvp                         energies_occ_pbe0_vac_qzvp                               energies_occ_gw_tzvp                               energies_occ_gw_qzvp                                         cbs_occ_gw                                 energies_unocc_pbe            energies_unocc_pbe0_vac_tier2                          energies_unocc_pbe0_water             energies_unocc_pbe0_vac_tzvp                       energies_unocc_pbe0_vac_qzvp                             energies_unocc_gw_tzvp                             energies_unocc_gw_qzvp                                       cbs_unocc_gw  total_energy_pbe  total_energy_pbe0_vac_tier2  total_energy_pbe0_water  total_energy_pbe0_vac_tzvp  total_energy_pbe0_vac_qzvp                                      hirshfeld_pbe                           hirshfeld_pbe0_vac_tier2                               hirshfeld_pbe0_water\n",
       "19024    AJAPIL01        NC(=[NH2])[NH]\\t\\n       InChI=1S/CH5N3/c2-1(3)4/h2H,3-4H2\\n                9  9\\n\\nN      32.65128843      33.07193319      ...  [-381.52478, -381.2835, -379.73995, -271.66104...  [-392.38663, -392.12332, -390.60032, -281.1358...  [-392.31957, -392.17859, -390.96013, -281.4096...  [-392.2818, -392.00366, -390.45821, -280.96267...  [-392.39372, -392.12995, -390.59389, -281.1282...  [-29.0861, -26.5238, -25.3701, -19.28, -17.593...  [-29.2376, -26.7309, -25.4658, -19.4846, -17.8...  [-29.34176, -26.87328, -25.53159, -19.62526, -...        [-0.6972900000000001, -0.10457000000000001]                               [-0.02426]                                          [0.19678]                     [0.7001400000000001]                              [0.31521000000000005]  [2.4485, 3.4302, 3.8428, 4.2335, 4.8057, 5.285...  [1.7666, 2.6479, 2.9262, 3.3485, 3.785, 4.1607...  [1.29779, 2.11007, 2.29604, 2.74006, 3.08327, ...      -5589.494238                 -5589.572454             -5589.924999                -5589.019847                -5589.493478  [-0.18999889, 0.11859838, 0.12313707, 0.125394...  [-0.20157954, 0.12216237, 0.12711175, 0.142446...  [-0.2043295, 0.13921183, 0.12807464, 0.1419790...\n",
       "21168      BMLTAA  O=C1SC(=O)C(=C1Br)Br\\t\\n  InChI=1S/C4Br2O2S/c5-1-2(6)4(8)9-3(1)7\\n                9  9\\n\\nBr      28.74660099      30.81490300     ...  [-13527.40318, -13527.40318, -2412.70493, -173...  [-13590.64178, -13590.64178, -2439.44676, -176...  [-13590.37374, -13590.37374, -2439.2899, -1760...  [-13588.19681, -13588.19273, -2441.32444, -176...  [-13592.0134, -13592.01258, -2439.56584, -1763...  [-26.7024, -24.5159, -24.2016, -22.1171, -20.6...  [-26.8382, -24.8399, -24.5301, -22.3943, -20.7...  [-27.01647, -25.26523, -24.96134, -22.7582, -2...  [-4.45013, -2.27398, -2.10196, -1.79459, -0.69...  [-3.68712, -1.28635, -1.1567, -0.76307]  [-3.52131, -0.93564, -0.9155700000000001, -0.6...  [-3.66136, -1.23771, -1.09122, -0.6568]  [-3.6739100000000002, -1.30218, -1.16527, -0.7...  [-1.8911, 0.6906, 0.7369, 0.8918, 2.1133, 2.49...  [-2.1297, 0.35660000000000003, 0.3989000000000...  [-2.44292, -0.08186, -0.04481, 0.2962700000000...    -161927.890218               -161931.725357           -161931.882242              -161704.701061              -161868.861493  [0.07464099, 0.07464099, -0.0235071, 0.1042489...  [0.06710962, 0.06710962, -0.01665122, 0.123186...  [0.07693667, 0.07693667, -0.00933193, 0.134252..."
      ]
     },
     "execution_count": 10,
     "metadata": {},
     "output_type": "execute_result"
    }
   ],
   "source": [
    "# We can of course view single molecular entries. \n",
    "# Here we select two molecular entries by their unique CSD refcode. \n",
    "\n",
    "df_62k[df_62k['refcode_csd'].isin(['AJAPIL01','BMLTAA'])]"
   ]
  },
  {
   "cell_type": "code",
   "execution_count": 11,
   "metadata": {
    "collapsed": false
   },
   "outputs": [
    {
     "name": "stdout",
     "output_type": "stream",
     "text": [
      "(20, 4)\n"
     ]
    },
    {
     "data": {
      "text/html": [
       "<div>\n",
       "<style scoped>\n",
       "    .dataframe tbody tr th:only-of-type {\n",
       "        vertical-align: middle;\n",
       "    }\n",
       "\n",
       "    .dataframe tbody tr th {\n",
       "        vertical-align: top;\n",
       "    }\n",
       "\n",
       "    .dataframe thead th {\n",
       "        text-align: right;\n",
       "    }\n",
       "</style>\n",
       "<table border=\"1\" class=\"dataframe\">\n",
       "  <thead>\n",
       "    <tr style=\"text-align: right;\">\n",
       "      <th></th>\n",
       "      <th>refcode_csd</th>\n",
       "      <th>inchi</th>\n",
       "      <th>total_energy_pbe</th>\n",
       "      <th>total_energy_pbe0_vac_tier2</th>\n",
       "    </tr>\n",
       "  </thead>\n",
       "  <tbody>\n",
       "    <tr>\n",
       "      <th>11</th>\n",
       "      <td>FOVWIW</td>\n",
       "      <td>InChI=1S/C17H18O2/c1-12-14-7-8-17(18)16(12)10-...</td>\n",
       "      <td>-22014.225382</td>\n",
       "      <td>-22015.739914</td>\n",
       "    </tr>\n",
       "    <tr>\n",
       "      <th>12</th>\n",
       "      <td>FOVYOE</td>\n",
       "      <td>InChI=1S/C13H11N3O3/c1-19-13-7-4-11(9-15-13)14...</td>\n",
       "      <td>-24271.036072</td>\n",
       "      <td>-24270.862337</td>\n",
       "    </tr>\n",
       "    <tr>\n",
       "      <th>14</th>\n",
       "      <td>FOWYOG</td>\n",
       "      <td>InChI=1S/C19H13BrO2S/c1-23(21)19-17-15-9-8-14(...</td>\n",
       "      <td>-106288.919549</td>\n",
       "      <td>-106292.406015</td>\n",
       "    </tr>\n",
       "    <tr>\n",
       "      <th>15</th>\n",
       "      <td>NOMKEG</td>\n",
       "      <td>InChI=1S/C4H5N5O8/c10-4-5(7(11)12)1-3(17-9(15)...</td>\n",
       "      <td>-28058.656542</td>\n",
       "      <td>-28055.882630</td>\n",
       "    </tr>\n",
       "    <tr>\n",
       "      <th>17</th>\n",
       "      <td>FOXHUW</td>\n",
       "      <td>InChI=1S/C15H19NO3S/c17-20(18)16-13-8-4-7-12-1...</td>\n",
       "      <td>-34374.852230</td>\n",
       "      <td>-34377.012746</td>\n",
       "    </tr>\n",
       "    <tr>\n",
       "      <th>18</th>\n",
       "      <td>FOXVIY</td>\n",
       "      <td>InChI=1S/C18H18O3/c1-11-4-6-13(15(19)8-11)18(3...</td>\n",
       "      <td>-25101.528138</td>\n",
       "      <td>-25102.884913</td>\n",
       "    </tr>\n",
       "    <tr>\n",
       "      <th>19</th>\n",
       "      <td>VIVCUZ</td>\n",
       "      <td>InChI=1S/C18H26N2O5SSi/c1-8-18(5)16(13-25-27(6...</td>\n",
       "      <td>-51083.910901</td>\n",
       "      <td>-51086.210598</td>\n",
       "    </tr>\n",
       "    <tr>\n",
       "      <th>20</th>\n",
       "      <td>FOYBUR</td>\n",
       "      <td>InChI=1S/C12H16Cl2N2O2/c1-4-15-9-7(13)12(18)10...</td>\n",
       "      <td>-44938.373116</td>\n",
       "      <td>-44940.821061</td>\n",
       "    </tr>\n",
       "    <tr>\n",
       "      <th>21</th>\n",
       "      <td>FOYDED</td>\n",
       "      <td>InChI=1S/C12H19Cl2NO2/c1-2-9-8-15(11(16)10(13)...</td>\n",
       "      <td>-43497.750578</td>\n",
       "      <td>-43501.030250</td>\n",
       "    </tr>\n",
       "    <tr>\n",
       "      <th>22</th>\n",
       "      <td>FOYGIK</td>\n",
       "      <td>InChI=1S/C15H12N2OSe/c1-18-13-9-7-12(8-10-13)1...</td>\n",
       "      <td>-87322.024782</td>\n",
       "      <td>-87324.119984</td>\n",
       "    </tr>\n",
       "  </tbody>\n",
       "</table>\n",
       "</div>"
      ],
      "text/plain": [
       "   refcode_csd                                              inchi  total_energy_pbe  total_energy_pbe0_vac_tier2\n",
       "11      FOVWIW  InChI=1S/C17H18O2/c1-12-14-7-8-17(18)16(12)10-...     -22014.225382                -22015.739914\n",
       "12      FOVYOE  InChI=1S/C13H11N3O3/c1-19-13-7-4-11(9-15-13)14...     -24271.036072                -24270.862337\n",
       "14      FOWYOG  InChI=1S/C19H13BrO2S/c1-23(21)19-17-15-9-8-14(...    -106288.919549               -106292.406015\n",
       "15      NOMKEG  InChI=1S/C4H5N5O8/c10-4-5(7(11)12)1-3(17-9(15)...     -28058.656542                -28055.882630\n",
       "17      FOXHUW  InChI=1S/C15H19NO3S/c17-20(18)16-13-8-4-7-12-1...     -34374.852230                -34377.012746\n",
       "18      FOXVIY  InChI=1S/C18H18O3/c1-11-4-6-13(15(19)8-11)18(3...     -25101.528138                -25102.884913\n",
       "19      VIVCUZ  InChI=1S/C18H26N2O5SSi/c1-8-18(5)16(13-25-27(6...     -51083.910901                -51086.210598\n",
       "20      FOYBUR  InChI=1S/C12H16Cl2N2O2/c1-4-15-9-7(13)12(18)10...     -44938.373116                -44940.821061\n",
       "21      FOYDED  InChI=1S/C12H19Cl2NO2/c1-2-9-8-15(11(16)10(13)...     -43497.750578                -43501.030250\n",
       "22      FOYGIK  InChI=1S/C15H12N2OSe/c1-18-13-9-7-12(8-10-13)1...     -87322.024782                -87324.119984"
      ]
     },
     "execution_count": 11,
     "metadata": {},
     "output_type": "execute_result"
    }
   ],
   "source": [
    "# We can also select single columns, i.e. the CSD refcode and the number_of_atoms and the total energy obtained at \n",
    "# the pbe and pbe0 level of theory and save this subset to a new dataframe. This is done here only for rows \n",
    "# 10 to 30, excluding all other rows from the original dataframe. We will then look at the first 10 entries of \n",
    "# this subset to see if everything went well.\n",
    "\n",
    "df_subset = deepcopy(df_62k[[\"refcode_csd\", \"inchi\", \"total_energy_pbe\", \"total_energy_pbe0_vac_tier2\"]].iloc[10:30])\n",
    "\n",
    "print(df_subset.shape)\n",
    "\n",
    "df_subset.head(10)"
   ]
  },
  {
   "cell_type": "code",
   "execution_count": 12,
   "metadata": {
    "collapsed": false
   },
   "outputs": [
    {
     "data": {
      "text/plain": [
       "(909, 29)"
      ]
     },
     "execution_count": 12,
     "metadata": {},
     "output_type": "execute_result"
    }
   ],
   "source": [
    "# More senseful data subset can be extracted by using the great filtering capabilities of pandas.\n",
    "# For example, to select all molecules between 50 and 60 atoms, we can use:\n",
    "\n",
    "df_subset2 = deepcopy(df_62k[ (df_62k.number_of_atoms > 70) & (df_62k.number_of_atoms < 75) ])\n",
    "df_subset2.shape"
   ]
  },
  {
   "cell_type": "code",
   "execution_count": 13,
   "metadata": {
    "collapsed": true
   },
   "outputs": [],
   "source": [
    "# If you want this in a human-readable format, pandas also offers simple options for exporting\n",
    "# Lets save it a .csv file, readable by common spreadsheet calculators such as Excel, Libreoffice calc, ...\n",
    "# We will only include fields for the envisioned, say refcode_csd for identification \n",
    "# and the total_energy_pbe0_vac_tier2\n",
    "\n",
    "df_subset2[[\"refcode_csd\",\"total_energy_pbe0_vac_tier2\"]].to_csv(\"subset_of_df62k.csv\")"
   ]
  },
  {
   "cell_type": "code",
   "execution_count": 14,
   "metadata": {
    "collapsed": false
   },
   "outputs": [
    {
     "data": {
      "image/png": "[encoded data removed]",
      "text/plain": [
       "<Figure size 360x360 with 1 Axes>"
      ]
     },
     "metadata": {
      "needs_background": "light"
     },
     "output_type": "display_data"
    }
   ],
   "source": [
    "# Pandas is also useful to provide input data to many established python packages \n",
    "# (such as scikit-learn, matplotlib,...). Many already accept pandas dataframe objects\n",
    "# (multiple columns) or pandas series objects (single columns from a dataframe) as input. \n",
    "# We for example directly show the correlation between the pbe and pbe0 total energies using matplotlib.\n",
    "\n",
    "plt.figure(figsize=(5,5))\n",
    "plt.plot((0,-500000), (0,-500000), c='gray')\n",
    "plt.scatter(df_subset2[\"total_energy_pbe\"], df_subset2[\"total_energy_pbe0_vac_tier2\"], s=5)\n",
    "plt.xlabel(\"$E_{tot}^{pbe}$ / eV\")\n",
    "plt.ylabel(\"$E_{tot}^{pbe0}$ / eV\")\n",
    "plt.show()"
   ]
  },
  {
   "cell_type": "code",
   "execution_count": 15,
   "metadata": {
    "collapsed": false
   },
   "outputs": [
    {
     "name": "stdout",
     "output_type": "stream",
     "text": [
      "909 909\n",
      "(909, 29)\n"
     ]
    },
    {
     "name": "stderr",
     "output_type": "stream",
     "text": [
      "/net/barry/export/kunkel/Programs/miniconda3/envs/orgel_py3/lib/python3.7/site-packages/ipykernel_launcher.py:11: FutureWarning: Method .as_matrix will be removed in a future version. Use .values instead.\n",
      "  # This is added back by InteractiveShellApp.init_path()\n"
     ]
    }
   ],
   "source": [
    "# However, if needed, it is also easy to convert to other common datatypes, \n",
    "\n",
    "# We can get lists from pandas series (single columns):\n",
    "\n",
    "list_subset_recodes_csd = df_subset2[\"refcode_csd\"].tolist()\n",
    "list_subset_number_atoms = df_subset2[\"inchi\"].tolist()\n",
    "print( len(list_subset_recodes_csd), len(list_subset_number_atoms) )\n",
    "\n",
    "# Or numpy arrays from dataframes, containing multiple columns\n",
    "\n",
    "subset_numpy_array = df_subset2.as_matrix()\n",
    "print(subset_numpy_array.shape)"
   ]
  },
  {
   "cell_type": "markdown",
   "metadata": {},
   "source": [
    "## 3. Working with energy-levels"
   ]
  },
  {
   "cell_type": "code",
   "execution_count": 16,
   "metadata": {
    "collapsed": false
   },
   "outputs": [
    {
     "name": "stderr",
     "output_type": "stream",
     "text": [
      "/net/barry/export/kunkel/Programs/miniconda3/envs/orgel_py3/lib/python3.7/site-packages/ipykernel_launcher.py:21: FutureWarning: set_value is deprecated and will be removed in a future release. Please use .at[] or .iat[] accessors instead\n"
     ]
    },
    {
     "name": "stdout",
     "output_type": "stream",
     "text": [
      "Available subsets to extract MO energies from\n",
      "['PBE+vdW_vacuum', 'PBE0_vacuum', 'PBE0_vacuum_tzvp', 'PBE0_vacuum_qzvp', 'PBE0_water', 'GOWO_at_PBE0_cbs', 'GOWO_at_PBE0_tzvp', 'GOWO_at_PBE0_qzvp']\n"
     ]
    }
   ],
   "source": [
    "# Available molecular orbital (MO) energies in the dataframe are stored in lists and as you can \n",
    "# see from table 2 in the paper, the lists are available for the different levels of theory.\n",
    "\n",
    "# Note however, if the MO energies are not available for a molecule in the full dataframe (df_62k.json) \n",
    "# for a theory-level, that entry is not a list, but instead set to None.\n",
    "\n",
    "# A python file called helpers is supplied with this tutorial and it can be used to extract a single energy level\n",
    "# from such a list. This can then be saved to a new pandas column. \n",
    "# Let us for example extract the HOMO at the PBE+vdW_vacuum level of theory into a separate column 'HOMO_PBE'.\n",
    "\n",
    "from helpers import get_level\n",
    "df_62k['HOMO_PBE'] = df_62k.apply (lambda row: get_level(row, level_type='HOMO', subset='PBE+vdW_vacuum'), axis=1)\n",
    "\n",
    "# The command might look odd, but actually it is a short-cut to looping over each row in the dataframe, \n",
    "# applying the get_level function, and saving the received value to the new column. \n",
    "# We are demonstrating this alternative way since it might be useful to carry out more complicated \n",
    "# post-processing operations on the dataframe.\n",
    "\n",
    "for i,row in df_62k.iterrows():\n",
    "    energy_mo = get_level(row, level_type='HOMO', subset='PBE+vdW_vacuum')\n",
    "    df_62k.set_value(i, 'HOMO_PBE', energy_mo)\n",
    "    \n",
    "# The available subsets for get_level can be printed:\n",
    "\n",
    "from helpers import subsets\n",
    "print('Available subsets to extract MO energies from')\n",
    "print(subsets)"
   ]
  },
  {
   "cell_type": "code",
   "execution_count": 17,
   "metadata": {
    "collapsed": false
   },
   "outputs": [
    {
     "name": "stdout",
     "output_type": "stream",
     "text": [
      "Before filtering step: 909\n",
      "After filtering step: 831\n"
     ]
    },
    {
     "data": {
      "image/png": "[encoded data removed]",
      "text/plain": [
       "<Figure size 432x288 with 1 Axes>"
      ]
     },
     "metadata": {
      "needs_background": "light"
     },
     "output_type": "display_data"
    }
   ],
   "source": [
    "# As an example, let us now draw histogram of LUMO - HOMO and (LUMO+1) - (HOMO-1) gap in our df_subset2 \n",
    "# at the PBE+vdW level.\n",
    "\n",
    "# First, we need to extract the necessary energy-levels.\n",
    "df_subset2['LUMO+1_PBE0'] = df_subset2.apply (lambda row: get_level(row, level_type='LUMO+1', subset='PBE0_vacuum'), axis=1)\n",
    "df_subset2['LUMO_PBE0'] = df_subset2.apply (lambda row: get_level(row, level_type='LUMO', subset='PBE0_vacuum'), axis=1)\n",
    "df_subset2['HOMO_PBE0'] = df_subset2.apply (lambda row: get_level(row, level_type='HOMO', subset='PBE0_vacuum'), axis=1)\n",
    "df_subset2['HOMO-1_PBE0'] = df_subset2.apply (lambda row: get_level(row, level_type='HOMO-1', subset='PBE0_vacuum'), axis=1)\n",
    "\n",
    "\n",
    "# A note on convention: A few molecules might not have a tabulated value for the LUMO+1. This is the case,\n",
    "# if the highest virtual state was above the vacuum level, see the Table 2 in the publication for comments.\n",
    "# The get_level function then returns None and we can filter for such cases by \n",
    "# negating the .notnull() function with a ~. \n",
    "print(\"Before filtering step: {}\".format(df_subset2.shape[0]))\n",
    "df_subset2 = df_subset2[df_subset2[\"LUMO+1_PBE0\"].notnull()]\n",
    "print(\"After filtering step: {}\".format(df_subset2.shape[0]))\n",
    "# Note, the same might also happen if you go to select very low lying MOs, say HOMO-40: \n",
    "# Some smaller molecules might not that many occupied MOs. \n",
    "\n",
    "# Now, we compute the LUMO-HOMO and LUMO+1-HOMO-1 gaps\n",
    "df_subset2[\"LUMO_HOMO_gap\"] = df_subset2['LUMO_PBE0']-df_subset2['HOMO_PBE0']\n",
    "df_subset2[\"LUMO+1_HOMO-1_gap\"] = df_subset2['LUMO+1_PBE0']-df_subset2['HOMO-1_PBE0']\n",
    "\n",
    "# And finally draw the histogram\n",
    "plt.hist(df_subset2[\"LUMO_HOMO_gap\"], bins=np.linspace(0,10,50), alpha=0.5, label='LUMO - HOMO')\n",
    "plt.hist(df_subset2[\"LUMO+1_HOMO-1_gap\"], bins=np.linspace(0,10,50), alpha=0.5, label='(LUMO+1) - (HOMO-1)')\n",
    "plt.xlabel(\"Gap / eV\")\n",
    "plt.ylabel(\"Number of systems\")\n",
    "plt.legend()\n",
    "plt.show()"
   ]
  },
  {
   "cell_type": "markdown",
   "metadata": {},
   "source": [
    "## 4. Working with molecular structures"
   ]
  },
  {
   "cell_type": "markdown",
   "metadata": {},
   "source": [
    "The optimized molecular structures are saved in xyz_pbe_relaxed. These entries contain molecular coordinates in the\n",
    "standard xyz-format. \n",
    "\n",
    "Many programs can easily work with this format. We will therefore only demonstrate the writing, to a combined\n",
    "xyz-format trajectory, which includes the PBE-HOMO level in the comment line. \n",
    "\n",
    "Within python and jupyter, you can also visualize these molecules using some additional, but easily installable packages, see below."
   ]
  },
  {
   "cell_type": "code",
   "execution_count": 18,
   "metadata": {
    "collapsed": true
   },
   "outputs": [],
   "source": [
    "# We will write the molecules contained in df_subset2 to an xyz-trajectory (stacked xyz files)\n",
    "\n",
    "filename_xyz = \"62k_subset_70_to_75_atoms_HOMOs_PBE0.xyz\"\n",
    "\n",
    "with open(filename_xyz, \"w\") as out:\n",
    "    \n",
    "    # Here, we iterate over the molecules and add the HOMO_PBE in the comment-line.\n",
    "    \n",
    "    for i,row in df_subset2.iterrows():\n",
    "        \n",
    "        # In this loop, we split every xyz-entry into lines, edit the comment line and \n",
    "        # convert it again single string, that is then written to the file.\n",
    "        \n",
    "        xyz = row.xyz_pbe_relaxed.split(\"\\n\")\n",
    "        xyz[1] = str(row.HOMO_PBE0)\n",
    "        str_xyz=\"\"\n",
    "        for x in xyz:\n",
    "            str_xyz+=x+\"\\n\"\n",
    "        out.write(str_xyz)\n"
   ]
  },
  {
   "cell_type": "code",
   "execution_count": 19,
   "metadata": {
    "collapsed": true
   },
   "outputs": [],
   "source": [
    "# The xyz-trajectory can be visualized in jmol.\n",
    "# Probably you need to install it first, see http://jmol.sourceforge.net\n",
    "# The HOMO level should appear in the lower left comment-box\n",
    "\n",
    "success = os.system(\"jmol {}\".format(filename_xyz))"
   ]
  },
  {
   "cell_type": "code",
   "execution_count": 20,
   "metadata": {
    "collapsed": true
   },
   "outputs": [],
   "source": [
    "# Writing to disk first and opening in an external programs is unconvenient (at least to us).\n",
    "# We can also work with the structures within python, using for example the ASE (Atomic Simulation Environment),\n",
    "# which you can install and use as an additional python package, see: https://wiki.fysik.dtu.dk/ase/install.html\n",
    "\n",
    "# Using the function xyz2ase from the helpers file, we will create an ASE Molecule object from every xyz entry\n",
    "# and as an example use an ASE function to compute the number of electrons of each molecule. \n",
    "\n",
    "from helpers import xyz2ase\n",
    "from io import StringIO\n",
    "\n",
    "df_subset2['mol_ase'] = df_subset2.apply (lambda row: xyz2ase(row.xyz_pbe_relaxed) , axis=1)\n",
    "df_subset2[\"n_elec\"] = df_subset2.apply (lambda row: np.sum(row.mol_ase.get_atomic_numbers()) , axis=1)"
   ]
  },
  {
   "cell_type": "code",
   "execution_count": 21,
   "metadata": {
    "collapsed": false
   },
   "outputs": [
    {
     "data": {
      "application/vnd.jupyter.widget-view+json": {
       "model_id": "337996fbe9de4b65b51d5321bb8a6779",
       "version_major": 2,
       "version_minor": 0
      },
      "text/plain": [
       "_ColormakerRegistry()"
      ]
     },
     "metadata": {},
     "output_type": "display_data"
    },
    {
     "data": {
      "application/vnd.jupyter.widget-view+json": {
       "model_id": "1651491d4b534483934b7dda52d6c7e9",
       "version_major": 2,
       "version_minor": 0
      },
      "text/plain": [
       "NGLWidget()"
      ]
     },
     "metadata": {},
     "output_type": "display_data"
    }
   ],
   "source": [
    "# A nice and interactive 3D-Visualization of single cases can then be performed in nglview, \n",
    "# see https://nglviewer.org/nglview/latest for details and installation\n",
    "\n",
    "import nglview\n",
    "\n",
    "# We can visualize the first entry.\n",
    "# Executing this, you will see a navigatable 3D Model of the molecule\n",
    "nglview.show_ase(df_subset2.mol_ase.values[0])"
   ]
  },
  {
   "cell_type": "code",
   "execution_count": 22,
   "metadata": {
    "collapsed": false
   },
   "outputs": [
    {
     "data": {
      "image/svg+xml": [
       "<svg xmlns=\"http://www.w3.org/2000/svg\" font-family=\"sans-serif\" height=\"100\" stroke=\"rgb(0,0,0)\" stroke-linecap=\"round\" stroke-width=\"2\" viewBox=\"0 0 505.684 449.344\" width=\"100\" x=\"0\" y=\"0\">\n",
       "<line stroke=\"rgb(0,0,0)\" stroke-width=\"2.0\" x1=\"386.3\" x2=\"399.0\" y1=\"51.3\" y2=\"73.3\" />\n",
       "<line stroke=\"rgb(0,0,0)\" stroke-width=\"2.0\" x1=\"319.6\" x2=\"332.4\" y1=\"51.3\" y2=\"73.3\" />\n",
       "<line stroke=\"rgb(0,0,0)\" stroke-width=\"2.0\" x1=\"373.6\" x2=\"399.0\" y1=\"73.3\" y2=\"73.3\" />\n",
       "<line stroke=\"rgb(0,0,0)\" stroke-width=\"2.0\" x1=\"399.0\" x2=\"399.0\" y1=\"73.3\" y2=\"98.8\" />\n",
       "<line stroke=\"rgb(0,0,0)\" stroke-width=\"2.0\" x1=\"399.0\" x2=\"421.1\" y1=\"73.3\" y2=\"60.6\" />\n",
       "<line stroke=\"rgb(0,0,0)\" stroke-width=\"2.0\" x1=\"387.8\" x2=\"365.7\" y1=\"118.3\" y2=\"131.0\" />\n",
       "<line stroke=\"rgb(0,0,0)\" stroke-width=\"2.0\" x1=\"306.9\" x2=\"332.4\" y1=\"73.3\" y2=\"73.3\" />\n",
       "<line stroke=\"rgb(0,0,0)\" stroke-width=\"2.0\" x1=\"332.4\" x2=\"354.4\" y1=\"73.3\" y2=\"60.6\" />\n",
       "<line stroke=\"rgb(0,0,0)\" stroke-width=\"2.0\" x1=\"332.4\" x2=\"332.4\" y1=\"73.3\" y2=\"111.8\" />\n",
       "<line stroke=\"rgb(0,0,0)\" stroke-width=\"2.0\" x1=\"419.6\" x2=\"432.4\" y1=\"109.0\" y2=\"131.0\" />\n",
       "<line stroke=\"rgb(0,0,0)\" stroke-width=\"2.0\" x1=\"406.9\" x2=\"432.4\" y1=\"131.0\" y2=\"131.0\" />\n",
       "<line stroke=\"rgb(0,0,0)\" stroke-width=\"2.0\" x1=\"432.4\" x2=\"432.4\" y1=\"131.0\" y2=\"169.5\" />\n",
       "<line stroke=\"rgb(0,0,0)\" stroke-width=\"2.0\" x1=\"432.4\" x2=\"454.4\" y1=\"131.0\" y2=\"118.3\" />\n",
       "<line stroke=\"rgb(0,0,0)\" stroke-width=\"2.0\" x1=\"433.9\" x2=\"455.9\" y1=\"166.9\" y2=\"179.7\" />\n",
       "<line stroke=\"rgb(0,0,0)\" stroke-width=\"2.0\" x1=\"430.9\" x2=\"452.9\" y1=\"172.1\" y2=\"184.9\" />\n",
       "<line stroke=\"rgb(0,0,0)\" stroke-width=\"2.0\" x1=\"432.4\" x2=\"410.3\" y1=\"169.5\" y2=\"182.3\" />\n",
       "<line stroke=\"rgb(0,0,0)\" stroke-width=\"2.0\" x1=\"387.8\" x2=\"365.7\" y1=\"182.3\" y2=\"169.5\" />\n",
       "<line stroke=\"rgb(0,0,0)\" stroke-width=\"2.0\" x1=\"240.2\" x2=\"265.7\" y1=\"111.8\" y2=\"111.8\" />\n",
       "<line stroke=\"rgb(0,0,0)\" stroke-width=\"2.0\" x1=\"253.0\" x2=\"265.7\" y1=\"133.9\" y2=\"111.8\" />\n",
       "<line stroke=\"rgb(0,0,0)\" stroke-width=\"2.0\" x1=\"299.1\" x2=\"265.7\" y1=\"131.0\" y2=\"111.8\" />\n",
       "<line stroke=\"rgb(0,0,0)\" stroke-width=\"2.0\" x1=\"265.7\" x2=\"265.7\" y1=\"111.8\" y2=\"86.3\" />\n",
       "<line stroke=\"rgb(0,0,0)\" stroke-width=\"2.0\" x1=\"332.4\" x2=\"332.4\" y1=\"188.8\" y2=\"214.2\" />\n",
       "<line stroke=\"rgb(0,0,0)\" stroke-width=\"2.0\" x1=\"299.1\" x2=\"277.0\" y1=\"169.5\" y2=\"182.3\" />\n",
       "<line stroke=\"rgb(0,0,0)\" stroke-width=\"2.0\" x1=\"310.7\" x2=\"323.5\" y1=\"398.1\" y2=\"376.0\" />\n",
       "<line stroke=\"rgb(0,0,0)\" stroke-width=\"2.0\" x1=\"262.7\" x2=\"262.7\" y1=\"368.2\" y2=\"355.7\" />\n",
       "<line stroke=\"rgb(0,0,0)\" stroke-width=\"2.0\" x1=\"268.7\" x2=\"268.7\" y1=\"368.2\" y2=\"355.7\" />\n",
       "<line stroke=\"rgb(0,0,0)\" stroke-width=\"2.0\" x1=\"235.2\" x2=\"213.2\" y1=\"123.5\" y2=\"136.2\" />\n",
       "<line stroke=\"rgb(0,0,0)\" stroke-width=\"2.0\" x1=\"265.7\" x2=\"265.7\" y1=\"201.8\" y2=\"329.7\" />\n",
       "<line stroke=\"rgb(0,0,0)\" stroke-width=\"2.0\" x1=\"254.5\" x2=\"232.4\" y1=\"182.3\" y2=\"169.5\" />\n",
       "<line stroke=\"rgb(0,0,0)\" stroke-width=\"1.0\" x1=\"236.5\" x2=\"237.3\" y1=\"166.3\" y2=\"167.6\" />\n",
       "<line stroke=\"rgb(0,0,0)\" stroke-width=\"1.0\" x1=\"239.7\" x2=\"241.2\" y1=\"163.6\" y2=\"166.1\" />\n",
       "<line stroke=\"rgb(0,0,0)\" stroke-width=\"1.0\" x1=\"243.0\" x2=\"245.1\" y1=\"161.0\" y2=\"164.6\" />\n",
       "<line stroke=\"rgb(0,0,0)\" stroke-width=\"1.0\" x1=\"246.2\" x2=\"248.9\" y1=\"158.4\" y2=\"163.1\" />\n",
       "<line stroke=\"rgb(0,0,0)\" stroke-width=\"1.0\" x1=\"249.5\" x2=\"252.8\" y1=\"155.8\" y2=\"161.6\" />\n",
       "<line stroke=\"rgb(0,0,0)\" stroke-width=\"1.0\" x1=\"252.7\" x2=\"256.7\" y1=\"153.2\" y2=\"160.1\" />\n",
       "<line stroke=\"rgb(0,0,0)\" stroke-width=\"2.0\" x1=\"374.7\" x2=\"361.9\" y1=\"398.1\" y2=\"376.0\" />\n",
       "<line stroke=\"rgb(0,0,0)\" stroke-width=\"2.0\" x1=\"278.7\" x2=\"304.2\" y1=\"342.7\" y2=\"342.7\" />\n",
       "<line stroke=\"rgb(0,0,0)\" stroke-width=\"2.0\" x1=\"252.7\" x2=\"240.2\" y1=\"345.7\" y2=\"345.7\" />\n",
       "<line stroke=\"rgb(0,0,0)\" stroke-width=\"2.0\" x1=\"252.7\" x2=\"240.2\" y1=\"339.7\" y2=\"339.7\" />\n",
       "<line stroke=\"rgb(0,0,0)\" stroke-width=\"2.0\" x1=\"213.2\" x2=\"213.2\" y1=\"136.2\" y2=\"110.7\" />\n",
       "<line stroke=\"rgb(0,0,0)\" stroke-width=\"2.0\" x1=\"152.6\" x2=\"174.7\" y1=\"123.5\" y2=\"136.2\" />\n",
       "<line stroke=\"rgb(0,0,0)\" stroke-width=\"2.0\" x1=\"174.7\" x2=\"174.7\" y1=\"110.7\" y2=\"136.2\" />\n",
       "<line stroke=\"rgb(0,0,0)\" stroke-width=\"2.0\" x1=\"441.7\" x2=\"419.7\" y1=\"330.0\" y2=\"342.7\" />\n",
       "<line stroke=\"rgb(0,0,0)\" stroke-width=\"2.0\" x1=\"213.2\" x2=\"225.9\" y1=\"202.9\" y2=\"224.9\" />\n",
       "<line stroke=\"rgb(0,0,0)\" stroke-width=\"2.0\" x1=\"381.2\" x2=\"419.7\" y1=\"342.7\" y2=\"342.7\" />\n",
       "<line stroke=\"rgb(0,0,0)\" stroke-width=\"2.0\" x1=\"323.5\" x2=\"310.7\" y1=\"309.4\" y2=\"287.3\" />\n",
       "<line stroke=\"rgb(0,0,0)\" stroke-width=\"2.0\" x1=\"419.7\" x2=\"419.7\" y1=\"342.7\" y2=\"317.2\" />\n",
       "<line stroke=\"rgb(0,0,0)\" stroke-width=\"2.0\" x1=\"419.7\" x2=\"432.4\" y1=\"342.7\" y2=\"364.8\" />\n",
       "<line stroke=\"rgb(0,0,0)\" stroke-width=\"2.0\" x1=\"155.4\" x2=\"133.4\" y1=\"169.5\" y2=\"156.8\" />\n",
       "<line stroke=\"rgb(0,0,0)\" stroke-width=\"2.0\" x1=\"155.4\" x2=\"133.4\" y1=\"169.5\" y2=\"182.3\" />\n",
       "<line stroke=\"rgb(0,0,0)\" stroke-width=\"2.0\" x1=\"174.7\" x2=\"161.9\" y1=\"202.9\" y2=\"224.9\" />\n",
       "<line stroke=\"rgb(0,0,0)\" stroke-width=\"2.0\" x1=\"361.9\" x2=\"374.7\" y1=\"309.4\" y2=\"287.3\" />\n",
       "<line stroke=\"rgb(0,0,0)\" stroke-width=\"2.0\" x1=\"85.0\" x2=\"97.7\" y1=\"247.4\" y2=\"269.5\" />\n",
       "<line stroke=\"rgb(0,0,0)\" stroke-width=\"2.0\" x1=\"53.0\" x2=\"78.5\" y1=\"302.8\" y2=\"302.8\" />\n",
       "<line stroke=\"rgb(0,0,0)\" stroke-width=\"2.0\" x1=\"176.0\" x2=\"165.2\" y1=\"251.5\" y2=\"245.3\" />\n",
       "<line stroke=\"rgb(0,0,0)\" stroke-width=\"2.0\" x1=\"179.0\" x2=\"168.2\" y1=\"246.3\" y2=\"240.1\" />\n",
       "<line stroke=\"rgb(0,0,0)\" stroke-width=\"2.0\" x1=\"148.9\" x2=\"136.2\" y1=\"247.4\" y2=\"269.5\" />\n",
       "<line stroke=\"rgb(0,0,0)\" stroke-width=\"2.0\" x1=\"142.7\" x2=\"131.9\" y1=\"232.3\" y2=\"226.0\" />\n",
       "<line stroke=\"rgb(0,0,0)\" stroke-width=\"2.0\" x1=\"145.7\" x2=\"134.9\" y1=\"227.1\" y2=\"220.8\" />\n",
       "<line stroke=\"rgb(0,0,0)\" stroke-width=\"2.0\" x1=\"97.7\" x2=\"85.0\" y1=\"336.2\" y2=\"358.2\" />\n",
       "<line stroke=\"rgb(0,0,0)\" stroke-width=\"2.0\" x1=\"155.4\" x2=\"180.9\" y1=\"302.8\" y2=\"302.8\" />\n",
       "<line stroke=\"rgb(0,0,0)\" stroke-width=\"2.0\" x1=\"136.2\" x2=\"148.9\" y1=\"336.2\" y2=\"358.2\" />\n",
       "<line stroke=\"rgb(0,0,0)\" stroke-width=\"2.0\" x1=\"299.1\" x2=\"332.4\" y1=\"131.0\" y2=\"111.8\" />\n",
       "<line stroke=\"rgb(0,0,0)\" stroke-width=\"2.0\" x1=\"332.4\" x2=\"365.7\" y1=\"111.8\" y2=\"131.0\" />\n",
       "<line stroke=\"rgb(0,0,0)\" stroke-width=\"2.0\" x1=\"334.0\" x2=\"356.9\" y1=\"121.0\" y2=\"134.3\" />\n",
       "<line stroke=\"rgb(0,0,0)\" stroke-width=\"2.0\" x1=\"365.7\" x2=\"365.7\" y1=\"131.0\" y2=\"169.5\" />\n",
       "<line stroke=\"rgb(0,0,0)\" stroke-width=\"2.0\" x1=\"365.7\" x2=\"332.4\" y1=\"169.5\" y2=\"188.8\" />\n",
       "<line stroke=\"rgb(0,0,0)\" stroke-width=\"2.0\" x1=\"356.9\" x2=\"334.0\" y1=\"166.3\" y2=\"179.5\" />\n",
       "<line stroke=\"rgb(0,0,0)\" stroke-width=\"2.0\" x1=\"332.4\" x2=\"299.1\" y1=\"188.8\" y2=\"169.5\" />\n",
       "<line stroke=\"rgb(0,0,0)\" stroke-width=\"2.0\" x1=\"299.1\" x2=\"299.1\" y1=\"169.5\" y2=\"131.0\" />\n",
       "<line stroke=\"rgb(0,0,0)\" stroke-width=\"2.0\" x1=\"306.3\" x2=\"306.3\" y1=\"163.5\" y2=\"137.0\" />\n",
       "<line stroke=\"rgb(0,0,0)\" stroke-width=\"2.0\" x1=\"361.9\" x2=\"381.2\" y1=\"309.4\" y2=\"342.7\" />\n",
       "<line stroke=\"rgb(0,0,0)\" stroke-width=\"2.0\" x1=\"358.7\" x2=\"371.9\" y1=\"318.2\" y2=\"341.1\" />\n",
       "<line stroke=\"rgb(0,0,0)\" stroke-width=\"2.0\" x1=\"381.2\" x2=\"361.9\" y1=\"342.7\" y2=\"376.0\" />\n",
       "<line stroke=\"rgb(0,0,0)\" stroke-width=\"2.0\" x1=\"361.9\" x2=\"323.5\" y1=\"376.0\" y2=\"376.0\" />\n",
       "<line stroke=\"rgb(0,0,0)\" stroke-width=\"2.0\" x1=\"355.9\" x2=\"329.5\" y1=\"368.8\" y2=\"368.8\" />\n",
       "<line stroke=\"rgb(0,0,0)\" stroke-width=\"2.0\" x1=\"323.5\" x2=\"304.2\" y1=\"376.0\" y2=\"342.7\" />\n",
       "<line stroke=\"rgb(0,0,0)\" stroke-width=\"2.0\" x1=\"304.2\" x2=\"323.5\" y1=\"342.7\" y2=\"309.4\" />\n",
       "<line stroke=\"rgb(0,0,0)\" stroke-width=\"2.0\" x1=\"313.4\" x2=\"326.7\" y1=\"341.1\" y2=\"318.2\" />\n",
       "<line stroke=\"rgb(0,0,0)\" stroke-width=\"2.0\" x1=\"323.5\" x2=\"361.9\" y1=\"309.4\" y2=\"309.4\" />\n",
       "<line stroke=\"rgb(0,0,0)\" stroke-width=\"2.0\" x1=\"136.2\" x2=\"97.7\" y1=\"336.2\" y2=\"336.2\" />\n",
       "<line stroke=\"rgb(0,0,0)\" stroke-width=\"2.0\" x1=\"130.2\" x2=\"103.7\" y1=\"329.0\" y2=\"329.0\" />\n",
       "<line stroke=\"rgb(0,0,0)\" stroke-width=\"2.0\" x1=\"97.7\" x2=\"78.5\" y1=\"336.2\" y2=\"302.8\" />\n",
       "<line stroke=\"rgb(0,0,0)\" stroke-width=\"2.0\" x1=\"78.5\" x2=\"97.7\" y1=\"302.8\" y2=\"269.5\" />\n",
       "<line stroke=\"rgb(0,0,0)\" stroke-width=\"2.0\" x1=\"87.7\" x2=\"101.0\" y1=\"301.2\" y2=\"278.3\" />\n",
       "<line stroke=\"rgb(0,0,0)\" stroke-width=\"2.0\" x1=\"97.7\" x2=\"136.2\" y1=\"269.5\" y2=\"269.5\" />\n",
       "<line stroke=\"rgb(0,0,0)\" stroke-width=\"2.0\" x1=\"136.2\" x2=\"155.4\" y1=\"269.5\" y2=\"302.8\" />\n",
       "<line stroke=\"rgb(0,0,0)\" stroke-width=\"2.0\" x1=\"133.0\" x2=\"146.2\" y1=\"278.3\" y2=\"301.2\" />\n",
       "<line stroke=\"rgb(0,0,0)\" stroke-width=\"2.0\" x1=\"155.4\" x2=\"136.2\" y1=\"302.8\" y2=\"336.2\" />\n",
       "<line stroke=\"rgb(0,0,0)\" stroke-width=\"2.0\" x1=\"155.4\" x2=\"174.7\" y1=\"169.5\" y2=\"202.9\" />\n",
       "<line stroke=\"rgb(0,0,0)\" stroke-width=\"2.0\" x1=\"174.7\" x2=\"213.2\" y1=\"202.9\" y2=\"202.9\" />\n",
       "<line stroke=\"rgb(0,0,0)\" stroke-width=\"2.0\" x1=\"180.7\" x2=\"207.2\" y1=\"195.7\" y2=\"195.7\" />\n",
       "<line stroke=\"rgb(0,0,0)\" stroke-width=\"2.0\" x1=\"213.2\" x2=\"232.4\" y1=\"202.9\" y2=\"169.5\" />\n",
       "<line stroke=\"rgb(0,0,0)\" stroke-width=\"2.0\" x1=\"232.4\" x2=\"213.2\" y1=\"169.5\" y2=\"136.2\" />\n",
       "<line stroke=\"rgb(0,0,0)\" stroke-width=\"2.0\" x1=\"213.2\" x2=\"174.7\" y1=\"136.2\" y2=\"136.2\" />\n",
       "<line stroke=\"rgb(0,0,0)\" stroke-width=\"2.0\" x1=\"174.7\" x2=\"155.4\" y1=\"136.2\" y2=\"169.5\" />\n",
       "<text fill=\"rgb(255,12,12)\" font-size=\"16\" stroke=\"rgb(255,12,12)\" stroke-width=\"1\" x=\"393.032736\" y=\"119.806547\">O</text>\n",
       "<text fill=\"rgb(255,12,12)\" font-size=\"16\" stroke=\"rgb(255,12,12)\" stroke-width=\"1\" x=\"459.683805\" y=\"196.768573\">O</text>\n",
       "<text fill=\"rgb(255,12,12)\" font-size=\"16\" stroke=\"rgb(255,12,12)\" stroke-width=\"1\" x=\"393.032736\" y=\"196.768573\">O</text>\n",
       "<text fill=\"rgb(178,178,0)\" font-size=\"16\" stroke=\"rgb(178,178,0)\" stroke-width=\"1\" x=\"149.443038\" y=\"244.179135\">S</text>\n",
       "<text fill=\"rgb(165,40,40)\" font-size=\"16\" stroke=\"rgb(165,40,40)\" stroke-width=\"1\" x=\"326.381667\" y=\"235.249585\">Br</text>\n",
       "<text fill=\"rgb(191,191,191)\" font-size=\"16\" stroke=\"rgb(191,191,191)\" stroke-width=\"1\" x=\"387.877258\" y=\"139.047054\">H</text>\n",
       "<text fill=\"rgb(191,191,191)\" font-size=\"16\" stroke=\"rgb(191,191,191)\" stroke-width=\"1\" x=\"373.792230\" y=\"48.000000\">H</text>\n",
       "<text fill=\"rgb(191,191,191)\" font-size=\"16\" stroke=\"rgb(191,191,191)\" stroke-width=\"1\" x=\"426.358270\" y=\"62.085028\">H</text>\n",
       "<text fill=\"rgb(255,12,12)\" font-size=\"16\" stroke=\"rgb(255,12,12)\" stroke-width=\"1\" x=\"182.768573\" y=\"263.419642\">O</text>\n",
       "<text fill=\"rgb(191,191,191)\" font-size=\"16\" stroke=\"rgb(191,191,191)\" stroke-width=\"1\" x=\"116.117503\" y=\"196.768573\">H</text>\n",
       "<text fill=\"rgb(191,191,191)\" font-size=\"16\" stroke=\"rgb(191,191,191)\" stroke-width=\"1\" x=\"135.358010\" y=\"124.962025\">H</text>\n",
       "<text fill=\"rgb(191,191,191)\" font-size=\"16\" stroke=\"rgb(191,191,191)\" stroke-width=\"1\" x=\"72.481013\" y=\"377.481273\">H</text>\n",
       "<text fill=\"rgb(191,191,191)\" font-size=\"16\" stroke=\"rgb(191,191,191)\" stroke-width=\"1\" x=\"149.443038\" y=\"377.481273\">H</text>\n",
       "<text fill=\"rgb(191,191,191)\" font-size=\"16\" stroke=\"rgb(191,191,191)\" stroke-width=\"1\" x=\"187.924051\" y=\"310.830204\">H</text>\n",
       "<text fill=\"rgb(191,191,191)\" font-size=\"16\" stroke=\"rgb(191,191,191)\" stroke-width=\"1\" x=\"432.895155\" y=\"384.018158\">H</text>\n",
       "<text fill=\"rgb(191,191,191)\" font-size=\"16\" stroke=\"rgb(191,191,191)\" stroke-width=\"1\" x=\"446.980183\" y=\"331.452117\">H</text>\n",
       "<text fill=\"rgb(191,191,191)\" font-size=\"16\" stroke=\"rgb(191,191,191)\" stroke-width=\"1\" x=\"407.117764\" y=\"105.721519\">H</text>\n",
       "<text fill=\"rgb(191,191,191)\" font-size=\"16\" stroke=\"rgb(191,191,191)\" stroke-width=\"1\" x=\"459.683805\" y=\"119.806547\">H</text>\n",
       "<text fill=\"rgb(191,191,191)\" font-size=\"16\" stroke=\"rgb(191,191,191)\" stroke-width=\"1\" x=\"72.481013\" y=\"244.179135\">H</text>\n",
       "<text fill=\"rgb(191,191,191)\" font-size=\"16\" stroke=\"rgb(191,191,191)\" stroke-width=\"1\" x=\"34.000000\" y=\"310.830204\">H</text>\n",
       "<text fill=\"rgb(191,191,191)\" font-size=\"16\" stroke=\"rgb(191,191,191)\" stroke-width=\"1\" x=\"226.405063\" y=\"244.179135\">H</text>\n",
       "<text fill=\"rgb(191,191,191)\" font-size=\"16\" stroke=\"rgb(191,191,191)\" stroke-width=\"1\" x=\"259.730598\" y=\"158.287560\">H</text>\n",
       "<text fill=\"rgb(191,191,191)\" font-size=\"16\" stroke=\"rgb(191,191,191)\" stroke-width=\"1\" x=\"307.141161\" y=\"48.000000\">H</text>\n",
       "<text fill=\"rgb(12,12,255)\" font-size=\"16\" stroke=\"rgb(12,12,255)\" stroke-width=\"1\" x=\"259.730598\" y=\"196.768573\">N</text>\n",
       "<text fill=\"rgb(255,12,12)\" font-size=\"16\" stroke=\"rgb(255,12,12)\" stroke-width=\"1\" x=\"259.730598\" y=\"389.173636\">O</text>\n",
       "<text fill=\"rgb(255,12,12)\" font-size=\"16\" stroke=\"rgb(255,12,12)\" stroke-width=\"1\" x=\"221.249585\" y=\"350.692623\">O</text>\n",
       "<text fill=\"rgb(178,178,0)\" font-size=\"16\" stroke=\"rgb(178,178,0)\" stroke-width=\"1\" x=\"259.730598\" y=\"350.692623\">S</text>\n",
       "<text fill=\"rgb(191,191,191)\" font-size=\"16\" stroke=\"rgb(191,191,191)\" stroke-width=\"1\" x=\"354.551723\" y=\"81.325535\">H</text>\n",
       "<text fill=\"rgb(191,191,191)\" font-size=\"16\" stroke=\"rgb(191,191,191)\" stroke-width=\"1\" x=\"287.900654\" y=\"81.325535\">H</text>\n",
       "<text fill=\"rgb(191,191,191)\" font-size=\"16\" stroke=\"rgb(191,191,191)\" stroke-width=\"1\" x=\"359.707201\" y=\"62.085028\">H</text>\n",
       "<text fill=\"rgb(191,191,191)\" font-size=\"16\" stroke=\"rgb(191,191,191)\" stroke-width=\"1\" x=\"116.117503\" y=\"158.287560\">H</text>\n",
       "<text fill=\"rgb(191,191,191)\" font-size=\"16\" stroke=\"rgb(191,191,191)\" stroke-width=\"1\" x=\"168.683544\" y=\"105.721519\">H</text>\n",
       "<text fill=\"rgb(191,191,191)\" font-size=\"16\" stroke=\"rgb(191,191,191)\" stroke-width=\"1\" x=\"207.164557\" y=\"105.721519\">H</text>\n",
       "<text fill=\"rgb(191,191,191)\" font-size=\"16\" stroke=\"rgb(191,191,191)\" stroke-width=\"1\" x=\"240.490091\" y=\"124.962025\">H</text>\n",
       "<text fill=\"rgb(191,191,191)\" font-size=\"16\" stroke=\"rgb(191,191,191)\" stroke-width=\"1\" x=\"221.249585\" y=\"119.806547\">H</text>\n",
       "<text fill=\"rgb(191,191,191)\" font-size=\"16\" stroke=\"rgb(191,191,191)\" stroke-width=\"1\" x=\"375.173636\" y=\"417.343692\">H</text>\n",
       "<text fill=\"rgb(255,12,12)\" font-size=\"16\" stroke=\"rgb(255,12,12)\" stroke-width=\"1\" x=\"116.117503\" y=\"224.938629\">O</text>\n",
       "<text fill=\"rgb(191,191,191)\" font-size=\"16\" stroke=\"rgb(191,191,191)\" stroke-width=\"1\" x=\"413.654648\" y=\"312.211610\">H</text>\n",
       "<text fill=\"rgb(191,191,191)\" font-size=\"16\" stroke=\"rgb(191,191,191)\" stroke-width=\"1\" x=\"259.730598\" y=\"81.325535\">H</text>\n",
       "<text fill=\"rgb(191,191,191)\" font-size=\"16\" stroke=\"rgb(191,191,191)\" stroke-width=\"1\" x=\"240.490091\" y=\"153.132082\">H</text>\n",
       "<text fill=\"rgb(191,191,191)\" font-size=\"16\" stroke=\"rgb(191,191,191)\" stroke-width=\"1\" x=\"298.211610\" y=\"417.343692\">H</text>\n",
       "<text fill=\"rgb(191,191,191)\" font-size=\"16\" stroke=\"rgb(191,191,191)\" stroke-width=\"1\" x=\"375.173636\" y=\"284.041554\">H</text>\n",
       "<text fill=\"rgb(191,191,191)\" font-size=\"16\" stroke=\"rgb(191,191,191)\" stroke-width=\"1\" x=\"298.211610\" y=\"284.041554\">H</text>\n",
       "</svg>\n"
      ],
      "text/plain": [
       "<pybel.Molecule at 0x2b42df971898>"
      ]
     },
     "execution_count": 22,
     "metadata": {},
     "output_type": "execute_result"
    }
   ],
   "source": [
    "# Using the Openbabel Cheminformatics toolkit, it is also possible to read the xyz-files.\n",
    "# We here use pybel, an OpenBabel python-interface. ( https://openbabel.org/wiki/Main_page). \n",
    "# A simplified install might be possible through conda install (see https://anaconda.org/openbabel/openbabel). \n",
    "\n",
    "import pybel as pb\n",
    "\n",
    "# We can add a column of pybel molecules to the dataframe:\n",
    "df_subset2['pb_mol'] = df_subset2.apply (lambda row: pb.readstring('xyz',row['xyz_pbe_relaxed']), axis=1)\n",
    "\n",
    "# And again visualize the first molecule, but this time in the common Lewis-structure.\n",
    "# As you can see, bond assignments have thereby been proposed by OpenBabel, based on the 3D-structure:\n",
    "\n",
    "df_subset2.pb_mol.values[0]"
   ]
  },
  {
   "cell_type": "code",
   "execution_count": 23,
   "metadata": {
    "collapsed": false,
    "scrolled": true
   },
   "outputs": [
    {
     "name": "stdout",
     "output_type": "stream",
     "text": [
      "\n",
      " OpenBabel11171914313D\n",
      "\n",
      " 73 76  0  0  1  0  0  0  0  0999 V2000\n",
      "   46.9449   31.8789   48.2272 C   0  0  0  0  0  0  0  0  0  0  0  0\n",
      "   45.5180   32.2352   44.6517 H   0  0  0  0  0  0  0  0  0  0  0  0\n",
      "   46.9284   31.5000   47.1965 H   0  0  0  0  0  0  0  0  0  0  0  0\n",
      "   45.9037   31.9627   48.5680 H   0  0  0  0  0  0  0  0  0  0  0  0\n",
      "   47.2786   29.9130   49.0766 H   0  0  0  0  0  0  0  0  0  0  0  0\n",
      "   46.7210   31.2369   51.0610 H   0  0  0  0  0  0  0  0  0  0  0  0\n",
      "   46.1302   33.9445   42.5583 C   0  0  0  0  0  0  0  0  0  0  0  0\n",
      "   45.0660   34.2206   42.5793 H   0  0  0  0  0  0  0  0  0  0  0  0\n",
      "   46.1707   32.8460   42.5273 H   0  0  0  0  0  0  0  0  0  0  0  0\n",
      "   46.5728   34.3215   41.6320 H   0  0  0  0  0  0  0  0  0  0  0  0\n",
      "   46.8591   37.0569   41.8321 H   0  0  0  0  0  0  0  0  0  0  0  0\n",
      "   45.4386   35.0651   48.2074 S   0  0  0  0  0  0  0  0  0  0  0  0\n",
      "   45.0330   34.2206   49.3128 O   0  0  0  0  0  0  0  0  0  0  0  0\n",
      "   44.5348   35.3903   47.1232 O   0  0  0  0  0  0  0  0  0  0  0  0\n",
      "   46.7721   34.2964   47.5119 N   0  0  0  0  0  0  0  0  0  0  0  0\n",
      "   47.1629   34.6454   46.1825 C   0  0  0  0  0  0  0  0  0  0  0  0\n",
      "   46.4772   34.1154   45.0666 C   0  0  0  0  0  0  0  0  0  0  0  0\n",
      "   45.3350   33.1518   45.2312 C   0  0  0  0  0  0  0  0  0  0  0  0\n",
      "   46.8593   34.4832   43.7580 C   0  0  0  0  0  0  0  0  0  0  0  0\n",
      "   46.0233   36.6116   48.8608 C   0  0  0  0  0  0  0  0  0  0  0  0\n",
      "   46.4292   36.6988   50.1930 C   0  0  0  0  0  0  0  0  0  0  0  0\n",
      "   46.9581   37.8967   50.6645 C   0  0  0  0  0  0  0  0  0  0  0  0\n",
      "   47.0752   39.0176   49.8303 C   0  0  0  0  0  0  0  0  0  0  0  0\n",
      "   46.6362   38.9088   48.5023 C   0  0  0  0  0  0  0  0  0  0  0  0\n",
      "   46.1115   37.7175   48.0111 C   0  0  0  0  0  0  0  0  0  0  0  0\n",
      "   46.3406   35.8394   50.8533 H   0  0  0  0  0  0  0  0  0  0  0  0\n",
      "   47.2921   37.9517   51.7011 H   0  0  0  0  0  0  0  0  0  0  0  0\n",
      "   46.7124   39.7716   47.8388 H   0  0  0  0  0  0  0  0  0  0  0  0\n",
      "   45.7744   37.6364   46.9794 H   0  0  0  0  0  0  0  0  0  0  0  0\n",
      "   44.3969   33.5896   44.8628 H   0  0  0  0  0  0  0  0  0  0  0  0\n",
      "   45.1725   32.8782   46.2741 H   0  0  0  0  0  0  0  0  0  0  0  0\n",
      "   46.8268   40.9335   50.7880 H   0  0  0  0  0  0  0  0  0  0  0  0\n",
      "   47.6850   32.9460   53.2663 O   0  0  0  0  0  0  0  0  0  0  0  0\n",
      "   47.7147   30.9197   49.1392 C   0  0  0  0  0  0  0  0  0  0  0  0\n",
      "   47.7064   31.4011   50.5961 C   0  0  0  0  0  0  0  0  0  0  0  0\n",
      "   48.0364   32.8646   50.6634 C   0  0  0  0  0  0  0  0  0  0  0  0\n",
      "   50.1844   32.8411   52.4431 C   0  0  0  0  0  0  0  0  0  0  0  0\n",
      "   50.3780   31.7823   53.3305 C   0  0  0  0  0  0  0  0  0  0  0  0\n",
      "   51.6582   31.2441   53.4750 C   0  0  0  0  0  0  0  0  0  0  0  0\n",
      "   52.7217   31.7594   52.7325 C   0  0  0  0  0  0  0  0  0  0  0  0\n",
      "   49.5320   31.4052   53.9033 H   0  0  0  0  0  0  0  0  0  0  0  0\n",
      "   51.8235   30.4212   54.1700 H   0  0  0  0  0  0  0  0  0  0  0  0\n",
      "   53.7192   31.3352   52.8459 H   0  0  0  0  0  0  0  0  0  0  0  0\n",
      "   48.7578   30.8306   48.7939 H   0  0  0  0  0  0  0  0  0  0  0  0\n",
      "   48.4232   30.8214   51.1970 H   0  0  0  0  0  0  0  0  0  0  0  0\n",
      "   48.3683   35.6809   42.3083 O   0  0  0  0  0  0  0  0  0  0  0  0\n",
      "   47.9403   35.3536   43.5750 C   0  0  0  0  0  0  0  0  0  0  0  0\n",
      "   47.9577   36.9837   41.8648 C   0  0  0  0  0  0  0  0  0  0  0  0\n",
      "   48.3566   37.7733   42.5187 H   0  0  0  0  0  0  0  0  0  0  0  0\n",
      "   48.3629   37.1029   40.8544 H   0  0  0  0  0  0  0  0  0  0  0  0\n",
      "   52.9477   36.7674   43.7998 H   0  0  0  0  0  0  0  0  0  0  0  0\n",
      "   49.3127   36.1768   47.4013 Br  0  0  0  0  0  0  0  0  0  0  0  0\n",
      "   48.5400   33.5307   52.2426 S   0  0  0  0  0  0  0  0  0  0  0  0\n",
      "   49.7124   36.7149   44.4558 O   0  0  0  0  0  0  0  0  0  0  0  0\n",
      "   51.1423   34.9467   44.2172 O   0  0  0  0  0  0  0  0  0  0  0  0\n",
      "   48.6738   34.9773   52.1282 O   0  0  0  0  0  0  0  0  0  0  0  0\n",
      "   48.2667   35.4981   45.9669 C   0  0  0  0  0  0  0  0  0  0  0  0\n",
      "   48.6543   35.8428   44.6768 C   0  0  0  0  0  0  0  0  0  0  0  0\n",
      "   50.9520   36.1353   44.2035 C   0  0  0  0  0  0  0  0  0  0  0  0\n",
      "   51.9600   37.2150   43.9328 C   0  0  0  0  0  0  0  0  0  0  0  0\n",
      "   47.5781   33.2796   48.2437 C   0  0  1  0  0  0  0  0  0  0  0  0\n",
      "   47.9734   33.7105   49.6293 C   0  0  0  0  0  0  0  0  0  0  0  0\n",
      "   47.6280   40.3144   50.3562 C   0  0  0  0  0  0  0  0  0  0  0  0\n",
      "   52.5143   32.8201   51.8452 C   0  0  0  0  0  0  0  0  0  0  0  0\n",
      "   51.2419   33.3674   51.6960 C   0  0  0  0  0  0  0  0  0  0  0  0\n",
      "   48.5180   33.2421   47.6643 H   0  0  0  0  0  0  0  0  0  0  0  0\n",
      "   48.2548   34.7525   49.7726 H   0  0  0  0  0  0  0  0  0  0  0  0\n",
      "   53.3479   33.2234   51.2707 H   0  0  0  0  0  0  0  0  0  0  0  0\n",
      "   51.0652   34.1992   51.0151 H   0  0  0  0  0  0  0  0  0  0  0  0\n",
      "   51.9762   37.9317   44.7635 H   0  0  0  0  0  0  0  0  0  0  0  0\n",
      "   51.6779   37.7685   43.0275 H   0  0  0  0  0  0  0  0  0  0  0  0\n",
      "   48.1022   40.9030   49.5606 H   0  0  0  0  0  0  0  0  0  0  0  0\n",
      "   48.3684   40.1433   51.1477 H   0  0  0  0  0  0  0  0  0  0  0  0\n",
      "  1 61  1  0  0  0  0\n",
      "  1  4  1  0  0  0  0\n",
      "  1 34  1  0  0  0  0\n",
      "  2 18  1  0  0  0  0\n",
      "  3  1  1  0  0  0  0\n",
      "  5 34  1  0  0  0  0\n",
      "  7  8  1  0  0  0  0\n",
      "  7 19  1  0  0  0  0\n",
      "  9  7  1  0  0  0  0\n",
      " 10  7  1  0  0  0  0\n",
      " 11 48  1  0  0  0  0\n",
      " 12 20  1  0  0  0  0\n",
      " 12 13  2  0  0  0  0\n",
      " 14 12  2  0  0  0  0\n",
      " 15 12  1  0  0  0  0\n",
      " 15 61  1  0  0  0  0\n",
      " 16 15  1  0  0  0  0\n",
      " 17 18  1  0  0  0  0\n",
      " 17 16  2  0  0  0  0\n",
      " 18 31  1  0  0  0  0\n",
      " 19 17  1  0  0  0  0\n",
      " 20 21  2  0  0  0  0\n",
      " 21 22  1  0  0  0  0\n",
      " 21 26  1  0  0  0  0\n",
      " 22 27  1  0  0  0  0\n",
      " 23 63  1  0  0  0  0\n",
      " 23 22  2  0  0  0  0\n",
      " 24 23  1  0  0  0  0\n",
      " 25 24  2  0  0  0  0\n",
      " 25 20  1  0  0  0  0\n",
      " 28 24  1  0  0  0  0\n",
      " 29 25  1  0  0  0  0\n",
      " 30 18  1  0  0  0  0\n",
      " 34 35  1  0  0  0  0\n",
      " 35 36  1  0  0  0  0\n",
      " 35  6  1  0  0  0  0\n",
      " 35 45  1  0  0  0  0\n",
      " 36 53  1  0  0  0  0\n",
      " 37 38  2  0  0  0  0\n",
      " 38 39  1  0  0  0  0\n",
      " 38 41  1  0  0  0  0\n",
      " 39 42  1  0  0  0  0\n",
      " 40 43  1  0  0  0  0\n",
      " 40 39  2  0  0  0  0\n",
      " 44 34  1  0  0  0  0\n",
      " 46 47  1  0  0  0  0\n",
      " 47 19  2  0  0  0  0\n",
      " 47 58  1  0  0  0  0\n",
      " 48 46  1  0  0  0  0\n",
      " 48 49  1  0  0  0  0\n",
      " 50 48  1  0  0  0  0\n",
      " 51 60  1  0  0  0  0\n",
      " 53 37  1  0  0  0  0\n",
      " 53 33  2  0  0  0  0\n",
      " 54 58  1  0  0  0  0\n",
      " 56 53  2  0  0  0  0\n",
      " 57 16  1  0  0  0  0\n",
      " 57 52  1  0  0  0  0\n",
      " 58 57  2  0  0  0  0\n",
      " 59 55  2  0  0  0  0\n",
      " 59 54  1  0  0  0  0\n",
      " 60 59  1  0  0  0  0\n",
      " 60 70  1  0  0  0  0\n",
      " 61 66  1  6  0  0  0\n",
      " 61 62  1  0  0  0  0\n",
      " 62 67  1  0  0  0  0\n",
      " 62 36  2  0  0  0  0\n",
      " 63 32  1  0  0  0  0\n",
      " 63 73  1  0  0  0  0\n",
      " 64 40  1  0  0  0  0\n",
      " 65 64  2  0  0  0  0\n",
      " 65 37  1  0  0  0  0\n",
      " 68 64  1  0  0  0  0\n",
      " 69 65  1  0  0  0  0\n",
      " 71 60  1  0  0  0  0\n",
      " 72 63  1  0  0  0  0\n",
      "M  END\n",
      "\n"
     ]
    }
   ],
   "source": [
    "# Note, that openbabel can also be used to write many different file-formats\n",
    "# see: http://openbabel.org/docs/current/FileFormats/Overview.html\n",
    "# We can for example write a mol file.\n",
    "\n",
    "df_subset2['mol'] = df_subset2.apply (lambda row: pb.readstring('xyz',row['xyz_pbe_relaxed']).write('mol'), axis=1)\n",
    "print(df_subset2.mol.values[0])"
   ]
  },
  {
   "cell_type": "markdown",
   "metadata": {
    "collapsed": true
   },
   "source": [
    "Openbabel also has capabilities for many cheminformatics tasks. Examples are substructure searching and similarity comparison through molecular fingerprints. This would go too far in this tutorial, but it might be useful to search or work with the molecules in the dataset."
   ]
  },
  {
   "cell_type": "markdown",
   "metadata": {
    "collapsed": true
   },
   "source": [
    "\n",
    "\n",
    "\n",
    "\n",
    "# 5. Statistics"
   ]
  },
  {
   "cell_type": "markdown",
   "metadata": {},
   "source": [
    "Here we provide further examples that illustrate working with the dataset. These code snippets hopefully\n",
    "provide useful starting points for further analysis. \n",
    "\n",
    "Let us therefore gain statistical information about the dataset, e.g. what kind of elements occur in the dataset and what is the molecular size distribution. Figure 1 in the publication was produced with the code below."
   ]
  },
  {
   "cell_type": "markdown",
   "metadata": {},
   "source": [
    "## Collect information from the dataset"
   ]
  },
  {
   "cell_type": "markdown",
   "metadata": {},
   "source": [
    "## 62k set"
   ]
  },
  {
   "cell_type": "code",
   "execution_count": 24,
   "metadata": {
    "collapsed": true
   },
   "outputs": [],
   "source": [
    "dataframe = df_62k\n",
    "df_name = '62k'\n",
    "\n",
    "count_abs_occ = dict()    \n",
    "count_molecules = dict()  \n",
    "occ_per_molecule = dict() \n",
    "na_array= []\n",
    "num_nonh_array = []\n",
    "\n",
    "for i,row in dataframe.iterrows():\n",
    "    types = [] \n",
    "    xyz = row.xyz_pbe_relaxed.split(\"\\n\")\n",
    "    na = xyz[0]\n",
    "    na_array.append(na)\n",
    "    for i in range(int(na)):\n",
    "        al = xyz[i+2]\n",
    "        atom, x, y, z = al.split()\n",
    "        types.append(atom)\n",
    "    \n",
    "    # count total number of times that a certain element occurs in dataset\n",
    "    for element in types:\n",
    "        if element in count_abs_occ:\n",
    "            count_abs_occ[element] += 1\n",
    "        else:\n",
    "            count_abs_occ[element] = 1\n",
    "            \n",
    "    # count number of molecules that contain a certain element \n",
    "    for element in list(set(types)):\n",
    "        if element in count_molecules:\n",
    "            count_molecules[element] += 1\n",
    "        else:\n",
    "            count_molecules[element] = 1 \n",
    "    \n",
    "    # count number of \"heavy\" (non-H) atoms in a molecule\n",
    "    num_nonh = sum(x != 'H' for x in types)\n",
    "    num_nonh_array.append(num_nonh)"
   ]
  },
  {
   "cell_type": "markdown",
   "metadata": {},
   "source": [
    "How often does the element 'C' occur in 62k set in total?"
   ]
  },
  {
   "cell_type": "code",
   "execution_count": 25,
   "metadata": {
    "collapsed": false
   },
   "outputs": [
    {
     "data": {
      "text/plain": [
       "1084043"
      ]
     },
     "execution_count": 25,
     "metadata": {},
     "output_type": "execute_result"
    }
   ],
   "source": [
    "count_abs_occ['C']"
   ]
  },
  {
   "cell_type": "markdown",
   "metadata": {},
   "source": [
    "How many molecules contain 'C'?"
   ]
  },
  {
   "cell_type": "code",
   "execution_count": 26,
   "metadata": {
    "collapsed": false
   },
   "outputs": [
    {
     "data": {
      "text/plain": [
       "61464"
      ]
     },
     "execution_count": 26,
     "metadata": {},
     "output_type": "execute_result"
    }
   ],
   "source": [
    "count_molecules['C']"
   ]
  },
  {
   "cell_type": "markdown",
   "metadata": {},
   "source": [
    "How many C atoms does a molecule contain on average?"
   ]
  },
  {
   "cell_type": "code",
   "execution_count": 27,
   "metadata": {
    "collapsed": false
   },
   "outputs": [
    {
     "name": "stdout",
     "output_type": "stream",
     "text": [
      "Every molecule contains on average 17.637040 carbon atoms.\n"
     ]
    }
   ],
   "source": [
    "avg_c = count_abs_occ['C']/count_molecules['C']\n",
    "\n",
    "print(\"Every molecule contains on average %f carbon atoms.\" %avg_c)"
   ]
  },
  {
   "cell_type": "code",
   "execution_count": 28,
   "metadata": {
    "collapsed": true
   },
   "outputs": [],
   "source": [
    "## Obtain lists for elements and their total number of occurrences in the dataset.\n",
    "\n",
    "count_abs_occ['H']= [1, count_abs_occ['H']]\n",
    "count_abs_occ['Li']= [3, count_abs_occ['Li']]\n",
    "count_abs_occ['B']= [5, count_abs_occ['B']]\n",
    "count_abs_occ['C']= [6, count_abs_occ['C']]\n",
    "count_abs_occ['N']= [7, count_abs_occ['N']]\n",
    "count_abs_occ['O']= [8, count_abs_occ['O']]\n",
    "count_abs_occ['F']= [9, count_abs_occ['F']]\n",
    "count_abs_occ['Si']= [14, count_abs_occ['Si']]\n",
    "count_abs_occ['P']= [15, count_abs_occ['P']]\n",
    "count_abs_occ['S']= [16, count_abs_occ['S']]\n",
    "count_abs_occ['Cl']= [17, count_abs_occ['Cl']]\n",
    "count_abs_occ['As']= [33, count_abs_occ['As']]\n",
    "count_abs_occ['Se']= [34, count_abs_occ['Se']]\n",
    "count_abs_occ['Br']= [35, count_abs_occ['Br']]\n",
    "if 'Te' in count_abs_occ: ## element Te is not in 5k set\n",
    "    count_abs_occ['Te']= [52, count_abs_occ['Te']]\n",
    "else:\n",
    "    count_abs_occ['Te']= [52, 0]\n",
    "count_abs_occ['I']= [53, count_abs_occ['I']]"
   ]
  },
  {
   "cell_type": "code",
   "execution_count": 29,
   "metadata": {
    "collapsed": false
   },
   "outputs": [
    {
     "name": "stdout",
     "output_type": "stream",
     "text": [
      "List of elements occurring in the dataset: ('H', 'Li', 'B', 'C', 'N', 'O', 'F', 'Si', 'P', 'S', 'Cl', 'As', 'Se', 'Br', 'Te', 'I')\n",
      "Total number of occurrences of each element: (1159574, 13, 744, 1084043, 90717, 158491, 14628, 5177, 5385, 23403, 12581, 186, 1220, 5907, 143, 1035)\n"
     ]
    }
   ],
   "source": [
    "from operator import itemgetter\n",
    "\n",
    "# transform dictionary into list of tuples and sort by atomic number\n",
    "d = [[key, value] for key, value in count_abs_occ.items()]\n",
    "d.sort(key=itemgetter(1))\n",
    "\n",
    "elements = list(zip(*d))[0]\n",
    "print('List of elements occurring in the dataset:', elements)\n",
    "r = list(zip(*d))[1]\n",
    "occurrences = list(zip(*r))[1]\n",
    "print('Total number of occurrences of each element:', occurrences)\n",
    "\n",
    "##save occurrences for later\n",
    "import pickle\n",
    "with open(\"occurrences_%s.pkl\" %df_name, \"wb\") as fp:\n",
    "    pickle.dump(occurrences, fp)"
   ]
  },
  {
   "cell_type": "code",
   "execution_count": 30,
   "metadata": {
    "collapsed": true
   },
   "outputs": [],
   "source": [
    "## compute size distribution of molecules\n",
    "\n",
    "a = np.array(na_array)\n",
    "na_list = a.tolist()\n",
    "na_list = [int(i) for i in na_list]\n",
    "max_na = max(na_list)\n",
    "\n",
    "## save na_list for later\n",
    "with open(\"na_list_%s.pkl\" %df_name, \"wb\") as fp:\n",
    "    pickle.dump(na_list, fp)\n",
    "\n",
    "na_array = np.asarray(na_list)\n",
    "y = np.bincount(na_array)\n",
    "ii = np.nonzero(y)[0]\n",
    "number_of_atoms_index = np.array(list(zip(ii, y[ii])))\n",
    "number_of_atoms_index = number_of_atoms_index.T\n",
    "num_atoms = number_of_atoms_index[0]\n",
    "count = number_of_atoms_index[1]\n",
    "\n",
    "## bins for histogram\n",
    "bins = np.arange(1, max_na+1)\n",
    "\n",
    "##save bins for later\n",
    "with open(\"bins_%s.pkl\" %df_name, \"wb\") as fp:\n",
    "    pickle.dump(bins, fp)"
   ]
  },
  {
   "cell_type": "markdown",
   "metadata": {},
   "source": [
    "Mean value, standard deviation and variance of molecular size distribution"
   ]
  },
  {
   "cell_type": "code",
   "execution_count": 31,
   "metadata": {
    "collapsed": false
   },
   "outputs": [
    {
     "name": "stdout",
     "output_type": "stream",
     "text": [
      "The largest molecule of the 62k set has 174 atoms.\n",
      "On average, the molecular size is 41.686269 atoms, with an average of 22.828034 heavy (non-H) atoms.\n",
      "The molecular size distribution has a standard deviation of 16.853707 and a variance of 284.047436.\n"
     ]
    }
   ],
   "source": [
    "print('The largest molecule of the 62k set has %i atoms.' % max_na)\n",
    "print(\"On average, the molecular size is %f atoms, with an average of %f heavy (non-H) atoms.\" \n",
    "      %(na_array.mean(), np.asarray(num_nonh_array).mean()))\n",
    "print(\"The molecular size distribution has a standard deviation of %f and a variance of %f.\" \n",
    "      %(na_array.std(), na_array.var()))"
   ]
  },
  {
   "cell_type": "markdown",
   "metadata": {},
   "source": [
    "Plot element occurrences of in the dataset in a bar diagram"
   ]
  },
  {
   "cell_type": "code",
   "execution_count": 32,
   "metadata": {
    "collapsed": false
   },
   "outputs": [
    {
     "data": {
      "image/png": "[encoded data removed]",
      "text/plain": [
       "<Figure size 576x432 with 1 Axes>"
      ]
     },
     "metadata": {},
     "output_type": "display_data"
    }
   ],
   "source": [
    "plt.style.use('seaborn-whitegrid')\n",
    "fig = plt.figure(figsize=(8, 6))\n",
    "ax = fig.add_subplot(111)\n",
    "centers = range(len(count_abs_occ))\n",
    "plt.bar(centers, occurrences, align='center', tick_label=elements, color='royalblue', edgecolor='none')\n",
    "plt.yticks(fontsize=20)\n",
    "plt.xticks(fontsize=20)\n",
    "plt.title(\"Element distribution in 62k set\", fontsize=25)\n",
    "plt.ylabel('Number of atoms', fontsize=25)\n",
    "plt.yscale('log')\n",
    "#fig.savefig('element_distribution_%s.png' %df_name, dpi=200, bbox_inches=\"tight\")\n",
    "plt.show()"
   ]
  },
  {
   "cell_type": "markdown",
   "metadata": {},
   "source": [
    "Plot molecular size distribution with mean value as dashed line"
   ]
  },
  {
   "cell_type": "code",
   "execution_count": 33,
   "metadata": {
    "collapsed": false
   },
   "outputs": [
    {
     "data": {
      "image/png": "[encoded data removed]",
      "text/plain": [
       "<Figure size 576x432 with 1 Axes>"
      ]
     },
     "metadata": {},
     "output_type": "display_data"
    }
   ],
   "source": [
    "fig, ax = plt.subplots(1,1, figsize=(8,6))\n",
    "plt.style.use('seaborn-whitegrid')\n",
    "ax.hist(na_list, bins=bins, align='left', color='royalblue', edgecolor='none')\n",
    "plt.axvline(x=na_array.mean(), linestyle='--', color='k')\n",
    "ax.grid(linewidth=1)\n",
    "plt.tick_params(labelsize=40)\n",
    "plt.tick_params(labelsize=40)\n",
    "plt.xticks(fontsize=20)\n",
    "plt.yticks(fontsize=20)\n",
    "plt.xlabel('Number of atoms', fontsize=25)\n",
    "plt.ylabel('Number of molecules', fontsize=25)\n",
    "plt.title(\"Molecular size distribution in 62k set\", fontsize=25)\n",
    "#plt.xlim(0,120)\n",
    "#fig.savefig('size_distribution_%s.png' %df_name, dpi=200, bbox_inches=\"tight\")\n",
    "plt.show()"
   ]
  },
  {
   "cell_type": "markdown",
   "metadata": {},
   "source": [
    "## 31k set"
   ]
  },
  {
   "cell_type": "code",
   "execution_count": 34,
   "metadata": {
    "collapsed": true
   },
   "outputs": [],
   "source": [
    "dataframe = df_31k\n",
    "df_name = '31k'\n",
    "\n",
    "count_abs_occ = dict()    \n",
    "count_molecules = dict()  \n",
    "occ_per_molecule = dict() \n",
    "na_array= []\n",
    "num_nonh_array = []\n",
    "\n",
    "for i,row in dataframe.iterrows():\n",
    "    types = [] \n",
    "    xyz = row.xyz_pbe_relaxed.split(\"\\n\")\n",
    "    na = xyz[0]\n",
    "    na_array.append(na)\n",
    "    for i in range(int(na)):\n",
    "        al = xyz[i+2]\n",
    "        atom, x, y, z = al.split()\n",
    "        types.append(atom)\n",
    "    \n",
    "    # count total number of times that a certain element occurs in dataset\n",
    "    for element in types:\n",
    "        if element in count_abs_occ:\n",
    "            count_abs_occ[element] += 1\n",
    "        else:\n",
    "            count_abs_occ[element] = 1\n",
    "            \n",
    "    # count number of molecules that contain a certain element \n",
    "    for element in list(set(types)):\n",
    "        if element in count_molecules:\n",
    "            count_molecules[element] += 1\n",
    "        else:\n",
    "            count_molecules[element] = 1 \n",
    "    \n",
    "    # count number of \"heavy\" (non-H) atoms in a molecule\n",
    "    num_nonh = sum(x != 'H' for x in types)\n",
    "    num_nonh_array.append(num_nonh)"
   ]
  },
  {
   "cell_type": "markdown",
   "metadata": {},
   "source": [
    "How often does the element 'C' occur in 31k set in total?"
   ]
  },
  {
   "cell_type": "code",
   "execution_count": 35,
   "metadata": {
    "collapsed": false
   },
   "outputs": [
    {
     "data": {
      "text/plain": [
       "516219"
      ]
     },
     "execution_count": 35,
     "metadata": {},
     "output_type": "execute_result"
    }
   ],
   "source": [
    "count_abs_occ['C']"
   ]
  },
  {
   "cell_type": "markdown",
   "metadata": {},
   "source": [
    "How many molecules contain 'C'?"
   ]
  },
  {
   "cell_type": "code",
   "execution_count": 36,
   "metadata": {
    "collapsed": false
   },
   "outputs": [
    {
     "data": {
      "text/plain": [
       "30860"
      ]
     },
     "execution_count": 36,
     "metadata": {},
     "output_type": "execute_result"
    }
   ],
   "source": [
    "count_molecules['C']"
   ]
  },
  {
   "cell_type": "markdown",
   "metadata": {},
   "source": [
    "How many C atoms does a molecule contain on average?"
   ]
  },
  {
   "cell_type": "code",
   "execution_count": 37,
   "metadata": {
    "collapsed": false
   },
   "outputs": [
    {
     "name": "stdout",
     "output_type": "stream",
     "text": [
      "Every molecule contains on average 16.727771 carbon atoms.\n"
     ]
    }
   ],
   "source": [
    "avg_c = count_abs_occ['C']/count_molecules['C']\n",
    "\n",
    "print(\"Every molecule contains on average %f carbon atoms.\" %avg_c)"
   ]
  },
  {
   "cell_type": "code",
   "execution_count": 38,
   "metadata": {
    "collapsed": true
   },
   "outputs": [],
   "source": [
    "## Obtain lists for elements and their total number of occurrences in the dataset.\n",
    "\n",
    "count_abs_occ['H']= [1, count_abs_occ['H']]\n",
    "count_abs_occ['Li']= [3, count_abs_occ['Li']]\n",
    "count_abs_occ['B']= [5, count_abs_occ['B']]\n",
    "count_abs_occ['C']= [6, count_abs_occ['C']]\n",
    "count_abs_occ['N']= [7, count_abs_occ['N']]\n",
    "count_abs_occ['O']= [8, count_abs_occ['O']]\n",
    "count_abs_occ['F']= [9, count_abs_occ['F']]\n",
    "count_abs_occ['Si']= [14, count_abs_occ['Si']]\n",
    "count_abs_occ['P']= [15, count_abs_occ['P']]\n",
    "count_abs_occ['S']= [16, count_abs_occ['S']]\n",
    "count_abs_occ['Cl']= [17, count_abs_occ['Cl']]\n",
    "count_abs_occ['As']= [33, count_abs_occ['As']]\n",
    "count_abs_occ['Se']= [34, count_abs_occ['Se']]\n",
    "count_abs_occ['Br']= [35, count_abs_occ['Br']]\n",
    "if 'Te' in count_abs_occ: ## element Te is not in 5k set\n",
    "    count_abs_occ['Te']= [52, count_abs_occ['Te']]\n",
    "else:\n",
    "    count_abs_occ['Te']= [52, 0]\n",
    "count_abs_occ['I']= [53, count_abs_occ['I']]"
   ]
  },
  {
   "cell_type": "code",
   "execution_count": 39,
   "metadata": {
    "collapsed": false
   },
   "outputs": [
    {
     "name": "stdout",
     "output_type": "stream",
     "text": [
      "List of elements occurring in the dataset: ('H', 'Li', 'B', 'C', 'N', 'O', 'F', 'Si', 'P', 'S', 'Cl', 'As', 'Se', 'Br', 'Te', 'I')\n",
      "Total number of occurrences of each element: (543488, 3, 283, 516219, 44792, 78105, 7451, 1524, 2248, 11637, 6435, 62, 576, 2929, 63, 533)\n"
     ]
    }
   ],
   "source": [
    "from operator import itemgetter\n",
    "\n",
    "# transform dictionary into list of tuples and sort by atomic number\n",
    "d = [[key, value] for key, value in count_abs_occ.items()]\n",
    "d.sort(key=itemgetter(1))\n",
    "\n",
    "elements = list(zip(*d))[0]\n",
    "print('List of elements occurring in the dataset:', elements)\n",
    "r = list(zip(*d))[1]\n",
    "occurrences = list(zip(*r))[1]\n",
    "print('Total number of occurrences of each element:', occurrences)\n",
    "\n",
    "##save occurrences for later\n",
    "import pickle\n",
    "with open(\"occurrences_%s.pkl\" %df_name, \"wb\") as fp:\n",
    "    pickle.dump(occurrences, fp)"
   ]
  },
  {
   "cell_type": "code",
   "execution_count": 40,
   "metadata": {
    "collapsed": true
   },
   "outputs": [],
   "source": [
    "## compute size distribution of molecules\n",
    "\n",
    "a = np.array(na_array)\n",
    "na_list = a.tolist()\n",
    "na_list = [int(i) for i in na_list]\n",
    "max_na = max(na_list)\n",
    "\n",
    "## save na_list for later\n",
    "with open(\"na_list_%s.pkl\" %df_name, \"wb\") as fp:\n",
    "    pickle.dump(na_list, fp)\n",
    "\n",
    "na_array = np.asarray(na_list)\n",
    "y = np.bincount(na_array)\n",
    "ii = np.nonzero(y)[0]\n",
    "number_of_atoms_index = np.array(list(zip(ii, y[ii])))\n",
    "number_of_atoms_index = number_of_atoms_index.T\n",
    "num_atoms = number_of_atoms_index[0]\n",
    "count = number_of_atoms_index[1]\n",
    "\n",
    "## bins for histogram\n",
    "bins = np.arange(1, max_na+1)\n",
    "\n",
    "##save bins for later\n",
    "with open(\"bins_%s.pkl\" %df_name, \"wb\") as fp:\n",
    "    pickle.dump(bins, fp)"
   ]
  },
  {
   "cell_type": "markdown",
   "metadata": {},
   "source": [
    "Mean value, standard deviation and variance of molecular size distribution"
   ]
  },
  {
   "cell_type": "code",
   "execution_count": 41,
   "metadata": {
    "collapsed": false
   },
   "outputs": [
    {
     "name": "stdout",
     "output_type": "stream",
     "text": [
      "The largest molecule of the 31k set has 116 atoms.\n",
      "On average, the molecular size is 39.394611 atoms, with an average of 21.792331 heavy (non-H) atoms.\n",
      "The molecular size distribution has a standard deviation of 14.397475 and a variance of 207.287280.\n"
     ]
    }
   ],
   "source": [
    "print('The largest molecule of the 31k set has %i atoms.' % max_na)\n",
    "print(\"On average, the molecular size is %f atoms, with an average of %f heavy (non-H) atoms.\" \n",
    "      %(na_array.mean(), np.asarray(num_nonh_array).mean()))\n",
    "print(\"The molecular size distribution has a standard deviation of %f and a variance of %f.\" \n",
    "      %(na_array.std(), na_array.var()))"
   ]
  },
  {
   "cell_type": "markdown",
   "metadata": {},
   "source": [
    "Plot element occurrences of in the dataset in a bar diagram"
   ]
  },
  {
   "cell_type": "code",
   "execution_count": 42,
   "metadata": {
    "collapsed": false
   },
   "outputs": [
    {
     "data": {
      "image/png": "[encoded data removed]",
      "text/plain": [
       "<Figure size 576x432 with 1 Axes>"
      ]
     },
     "metadata": {},
     "output_type": "display_data"
    }
   ],
   "source": [
    "plt.style.use('seaborn-whitegrid')\n",
    "fig = plt.figure(figsize=(8, 6))\n",
    "ax = fig.add_subplot(111)\n",
    "centers = range(len(count_abs_occ))\n",
    "plt.bar(centers, occurrences, align='center', tick_label=elements, color='crimson', edgecolor='none')\n",
    "plt.yticks(fontsize=20)\n",
    "plt.xticks(fontsize=20)\n",
    "plt.title(\"Element distribution in 31k set\", fontsize=25)\n",
    "plt.ylabel('Number of atoms', fontsize=25)\n",
    "plt.yscale('log')\n",
    "#fig.savefig('element_distribution_%s.png' %df_name, dpi=200, bbox_inches=\"tight\")\n",
    "plt.show()"
   ]
  },
  {
   "cell_type": "markdown",
   "metadata": {},
   "source": [
    "Plot molecular size distribution with mean value as dashed line"
   ]
  },
  {
   "cell_type": "code",
   "execution_count": 43,
   "metadata": {
    "collapsed": false
   },
   "outputs": [
    {
     "data": {
      "image/png": "[encoded data removed]",
      "text/plain": [
       "<Figure size 576x432 with 1 Axes>"
      ]
     },
     "metadata": {},
     "output_type": "display_data"
    }
   ],
   "source": [
    "fig, ax = plt.subplots(1,1, figsize=(8,6))\n",
    "plt.style.use('seaborn-whitegrid')\n",
    "ax.hist(na_list, bins=bins, align='left', color='crimson', edgecolor='none')\n",
    "plt.axvline(x=na_array.mean(), linestyle='--', color='k')\n",
    "ax.grid(linewidth=1)\n",
    "plt.tick_params(labelsize=40)\n",
    "plt.tick_params(labelsize=40)\n",
    "plt.xticks(fontsize=20)\n",
    "plt.yticks(fontsize=20)\n",
    "plt.xlabel('Number of atoms', fontsize=25)\n",
    "plt.ylabel('Number of molecules', fontsize=25)\n",
    "plt.title(\"Molecular size distribution in 31k set\", fontsize=25)\n",
    "#plt.xlim(0,120)\n",
    "#fig.savefig('size_distribution_%s.png' %df_name, dpi=200, bbox_inches=\"tight\")\n",
    "plt.show()"
   ]
  },
  {
   "cell_type": "markdown",
   "metadata": {},
   "source": [
    "## 5k set"
   ]
  },
  {
   "cell_type": "code",
   "execution_count": 44,
   "metadata": {
    "collapsed": true
   },
   "outputs": [],
   "source": [
    "dataframe = df_5k\n",
    "df_name = '5k'\n",
    "\n",
    "count_abs_occ = dict()    \n",
    "count_molecules = dict()  \n",
    "occ_per_molecule = dict() \n",
    "na_array= []\n",
    "num_nonh_array = []\n",
    "\n",
    "for i,row in dataframe.iterrows():\n",
    "    types = [] \n",
    "    xyz = row.xyz_pbe_relaxed.split(\"\\n\")\n",
    "    na = xyz[0]\n",
    "    na_array.append(na)\n",
    "    for i in range(int(na)):\n",
    "        al = xyz[i+2]\n",
    "        atom, x, y, z = al.split()\n",
    "        types.append(atom)\n",
    "    \n",
    "    # count total number of times that a certain element occurs in dataset\n",
    "    for element in types:\n",
    "        if element in count_abs_occ:\n",
    "            count_abs_occ[element] += 1\n",
    "        else:\n",
    "            count_abs_occ[element] = 1\n",
    "            \n",
    "    # count number of molecules that contain a certain element \n",
    "    for element in list(set(types)):\n",
    "        if element in count_molecules:\n",
    "            count_molecules[element] += 1\n",
    "        else:\n",
    "            count_molecules[element] = 1 \n",
    "    \n",
    "    # count number of \"heavy\" (non-H) atoms in a molecule\n",
    "    num_nonh = sum(x != 'H' for x in types)\n",
    "    num_nonh_array.append(num_nonh)"
   ]
  },
  {
   "cell_type": "markdown",
   "metadata": {},
   "source": [
    "How often does the element 'C' occur in 5k set in total?"
   ]
  },
  {
   "cell_type": "code",
   "execution_count": 45,
   "metadata": {
    "collapsed": false
   },
   "outputs": [
    {
     "data": {
      "text/plain": [
       "88495"
      ]
     },
     "execution_count": 45,
     "metadata": {},
     "output_type": "execute_result"
    }
   ],
   "source": [
    "count_abs_occ['C']"
   ]
  },
  {
   "cell_type": "markdown",
   "metadata": {},
   "source": [
    "How many molecules contain 'C'?"
   ]
  },
  {
   "cell_type": "code",
   "execution_count": 46,
   "metadata": {
    "collapsed": false
   },
   "outputs": [
    {
     "data": {
      "text/plain": [
       "5233"
      ]
     },
     "execution_count": 46,
     "metadata": {},
     "output_type": "execute_result"
    }
   ],
   "source": [
    "count_molecules['C']"
   ]
  },
  {
   "cell_type": "markdown",
   "metadata": {},
   "source": [
    "How many C atoms does a molecule contain on average?"
   ]
  },
  {
   "cell_type": "code",
   "execution_count": 47,
   "metadata": {
    "collapsed": false
   },
   "outputs": [
    {
     "name": "stdout",
     "output_type": "stream",
     "text": [
      "Every molecule contains on average 16.910950 carbon atoms.\n"
     ]
    }
   ],
   "source": [
    "avg_c = count_abs_occ['C']/count_molecules['C']\n",
    "\n",
    "print(\"Every molecule contains on average %f carbon atoms.\" %avg_c)"
   ]
  },
  {
   "cell_type": "code",
   "execution_count": 48,
   "metadata": {
    "collapsed": true
   },
   "outputs": [],
   "source": [
    "## Obtain lists for elements and their total number of occurrences in the dataset.\n",
    "\n",
    "count_abs_occ['H']= [1, count_abs_occ['H']]\n",
    "count_abs_occ['Li']= [3, count_abs_occ['Li']]\n",
    "count_abs_occ['B']= [5, count_abs_occ['B']]\n",
    "count_abs_occ['C']= [6, count_abs_occ['C']]\n",
    "count_abs_occ['N']= [7, count_abs_occ['N']]\n",
    "count_abs_occ['O']= [8, count_abs_occ['O']]\n",
    "count_abs_occ['F']= [9, count_abs_occ['F']]\n",
    "count_abs_occ['Si']= [14, count_abs_occ['Si']]\n",
    "count_abs_occ['P']= [15, count_abs_occ['P']]\n",
    "count_abs_occ['S']= [16, count_abs_occ['S']]\n",
    "count_abs_occ['Cl']= [17, count_abs_occ['Cl']]\n",
    "count_abs_occ['As']= [33, count_abs_occ['As']]\n",
    "count_abs_occ['Se']= [34, count_abs_occ['Se']]\n",
    "count_abs_occ['Br']= [35, count_abs_occ['Br']]\n",
    "if 'Te' in count_abs_occ: ## element Te is not in 5k set\n",
    "    count_abs_occ['Te']= [52, count_abs_occ['Te']]\n",
    "else:\n",
    "    count_abs_occ['Te']= [52, 0]\n",
    "count_abs_occ['I']= [53, count_abs_occ['I']]"
   ]
  },
  {
   "cell_type": "code",
   "execution_count": 49,
   "metadata": {
    "collapsed": false
   },
   "outputs": [
    {
     "name": "stdout",
     "output_type": "stream",
     "text": [
      "List of elements occurring in the dataset: ('H', 'Li', 'B', 'C', 'N', 'O', 'F', 'Si', 'P', 'S', 'Cl', 'As', 'Se', 'Br', 'Te', 'I')\n",
      "Total number of occurrences of each element: (94560, 3, 49, 88495, 7700, 13553, 1196, 329, 427, 1874, 1104, 11, 80, 493, 0, 87)\n"
     ]
    }
   ],
   "source": [
    "from operator import itemgetter\n",
    "\n",
    "# transform dictionary into list of tuples and sort by atomic number\n",
    "d = [[key, value] for key, value in count_abs_occ.items()]\n",
    "d.sort(key=itemgetter(1))\n",
    "\n",
    "elements = list(zip(*d))[0]\n",
    "print('List of elements occurring in the dataset:', elements)\n",
    "r = list(zip(*d))[1]\n",
    "occurrences = list(zip(*r))[1]\n",
    "print('Total number of occurrences of each element:', occurrences)\n",
    "\n",
    "##save occurrences for later\n",
    "import pickle\n",
    "with open(\"occurrences_%s.pkl\" %df_name, \"wb\") as fp:\n",
    "    pickle.dump(occurrences, fp)"
   ]
  },
  {
   "cell_type": "code",
   "execution_count": 50,
   "metadata": {
    "collapsed": true
   },
   "outputs": [],
   "source": [
    "## compute size distribution of molecules\n",
    "\n",
    "a = np.array(na_array)\n",
    "na_list = a.tolist()\n",
    "na_list = [int(i) for i in na_list]\n",
    "max_na = max(na_list)\n",
    "\n",
    "## save na_list for later\n",
    "with open(\"na_list_%s.pkl\" %df_name, \"wb\") as fp:\n",
    "    pickle.dump(na_list, fp)\n",
    "\n",
    "na_array = np.asarray(na_list)\n",
    "y = np.bincount(na_array)\n",
    "ii = np.nonzero(y)[0]\n",
    "number_of_atoms_index = np.array(list(zip(ii, y[ii])))\n",
    "number_of_atoms_index = number_of_atoms_index.T\n",
    "num_atoms = number_of_atoms_index[0]\n",
    "count = number_of_atoms_index[1]\n",
    "\n",
    "## bins for histogram\n",
    "bins = np.arange(1, max_na+1)\n",
    "\n",
    "##save bins for later\n",
    "with open(\"bins_%s.pkl\" %df_name, \"wb\") as fp:\n",
    "    pickle.dump(bins, fp)"
   ]
  },
  {
   "cell_type": "markdown",
   "metadata": {},
   "source": [
    "Mean value, standard deviation and variance of molecular size distribution"
   ]
  },
  {
   "cell_type": "code",
   "execution_count": 51,
   "metadata": {
    "collapsed": false
   },
   "outputs": [
    {
     "name": "stdout",
     "output_type": "stream",
     "text": [
      "The largest molecule of the 5k set has 100 atoms.\n",
      "On average, the molecular size is 40.076541 atoms, with an average of 22.027295 heavy (non-H) atoms.\n",
      "The molecular size distribution has a standard deviation of 14.917565 and a variance of 222.533748.\n"
     ]
    }
   ],
   "source": [
    "print('The largest molecule of the 5k set has %i atoms.' % max_na)\n",
    "print(\"On average, the molecular size is %f atoms, with an average of %f heavy (non-H) atoms.\" \n",
    "      %(na_array.mean(), np.asarray(num_nonh_array).mean()))\n",
    "print(\"The molecular size distribution has a standard deviation of %f and a variance of %f.\" \n",
    "      %(na_array.std(), na_array.var()))"
   ]
  },
  {
   "cell_type": "markdown",
   "metadata": {},
   "source": [
    "Plot element occurrences of in the dataset in a bar diagram"
   ]
  },
  {
   "cell_type": "code",
   "execution_count": 52,
   "metadata": {
    "collapsed": false
   },
   "outputs": [
    {
     "data": {
      "image/png": "[encoded data removed]",
      "text/plain": [
       "<Figure size 576x432 with 1 Axes>"
      ]
     },
     "metadata": {},
     "output_type": "display_data"
    }
   ],
   "source": [
    "plt.style.use('seaborn-whitegrid')\n",
    "fig = plt.figure(figsize=(8, 6))\n",
    "ax = fig.add_subplot(111)\n",
    "centers = range(len(count_abs_occ))\n",
    "plt.bar(centers, occurrences, align='center', tick_label=elements, color='orange', edgecolor='none')\n",
    "plt.yticks(fontsize=20)\n",
    "plt.xticks(fontsize=20)\n",
    "plt.title(\"Element distribution in 5k set\", fontsize=25)\n",
    "plt.ylabel('Number of atoms', fontsize=25)\n",
    "plt.yscale('log')\n",
    "#fig.savefig('element_distribution_%s.png' %df_name, dpi=200, bbox_inches=\"tight\")\n",
    "plt.show()"
   ]
  },
  {
   "cell_type": "markdown",
   "metadata": {},
   "source": [
    "Plot molecular size distribution with mean value as dashed line"
   ]
  },
  {
   "cell_type": "code",
   "execution_count": 53,
   "metadata": {
    "collapsed": false
   },
   "outputs": [
    {
     "data": {
      "image/png": "[encoded data removed]",
      "text/plain": [
       "<Figure size 576x432 with 1 Axes>"
      ]
     },
     "metadata": {},
     "output_type": "display_data"
    }
   ],
   "source": [
    "fig, ax = plt.subplots(1,1, figsize=(8,6))\n",
    "plt.style.use('seaborn-whitegrid')\n",
    "ax.hist(na_list, bins=bins, align='left', color='orange', edgecolor='none')\n",
    "plt.axvline(x=na_array.mean(), linestyle='--', color='k')\n",
    "ax.grid(linewidth=1)\n",
    "plt.tick_params(labelsize=40)\n",
    "plt.tick_params(labelsize=40)\n",
    "plt.xticks(fontsize=20)\n",
    "plt.yticks(fontsize=20)\n",
    "plt.xlabel('Number of atoms', fontsize=25)\n",
    "plt.ylabel('Number of molecules', fontsize=25)\n",
    "plt.title(\"Molecular size distribution in 5k set\", fontsize=25)\n",
    "#plt.xlim(0,120)\n",
    "#fig.savefig('size_distribution_%s.png' %df_name, dpi=200, bbox_inches=\"tight\")\n",
    "plt.show()"
   ]
  },
  {
   "cell_type": "markdown",
   "metadata": {},
   "source": [
    "### Plot element distributions from all three (sub)sets in the same diagram"
   ]
  },
  {
   "cell_type": "code",
   "execution_count": 54,
   "metadata": {
    "collapsed": false
   },
   "outputs": [
    {
     "data": {
      "image/png": "[encoded data removed]",
      "text/plain": [
       "<Figure size 1800x720 with 1 Axes>"
      ]
     },
     "metadata": {},
     "output_type": "display_data"
    }
   ],
   "source": [
    "## Load lists back into memory\n",
    "with open(\"occurrences_62k.pkl\", \"rb\") as f, open(\"occurrences_31k.pkl\", \"rb\") as g, open(\"occurrences_5k.pkl\", \"rb\") as h:\n",
    "    occurrences_62k = pickle.load(f)\n",
    "    occurrences_31k = pickle.load(g)\n",
    "    occurrences_5k = pickle.load(h)\n",
    "\n",
    "_X = np.arange(len(elements))\n",
    "\n",
    "plt.style.use('seaborn-whitegrid')\n",
    "fig = plt.figure( figsize=(25, 10))\n",
    "ax = fig.add_subplot(111)\n",
    "ax.grid(linewidth=1)\n",
    "width = 0.5\n",
    "distance = 1\n",
    "ax.bar(_X-0.25, occurrences_62k, 0.25, color='royalblue', align='center', label='62k', edgecolor='none')\n",
    "ax.bar(_X, occurrences_31k, 0.25, color='crimson', align='center', label='31k', edgecolor='none')\n",
    "ax.bar(_X+0.25, occurrences_5k, 0.25, color='orange', align='center', label='5k', edgecolor='none')\n",
    "plt.xticks(_X, elements, fontsize=55, y=-0.01)\n",
    "plt.yticks(fontsize=55, x=-0.01)\n",
    "plt.ylabel(\"Number of atoms\", fontsize=65)\n",
    "ax.set_yscale('log')\n",
    "ax.set_xlim(-1, len(_X))\n",
    "ax.set_xticks(np.arange(len(_X)))\n",
    "plt.legend(loc='best', fontsize=45, frameon=True, shadow=True)\n",
    "plt.autoscale(enable=True, axis='x', tight=True)\n",
    "plt.show()"
   ]
  },
  {
   "cell_type": "markdown",
   "metadata": {},
   "source": [
    "### Plot size distribution for all three (sub)sets in the same diagram"
   ]
  },
  {
   "cell_type": "code",
   "execution_count": 56,
   "metadata": {
    "collapsed": false
   },
   "outputs": [
    {
     "data": {
      "image/png": "[encoded data removed]",
      "text/plain": [
       "<Figure size 1080x576 with 1 Axes>"
      ]
     },
     "metadata": {},
     "output_type": "display_data"
    }
   ],
   "source": [
    "## Plot size distributions of all threee (sub)sets together in the same plot\n",
    "## Again, it is neccessary to first run the above cells for all three (sub)sets\n",
    "\n",
    "with open(\"na_list_62k.pkl\", \"rb\") as f, open(\"na_list_31k.pkl\", \"rb\") as g, open(\"na_list_5k.pkl\", \"rb\") as h:\n",
    "    na_list_62k = pickle.load(f)\n",
    "    na_list_31k = pickle.load(g)  \n",
    "    na_list_5k = pickle.load(h) \n",
    "    \n",
    "with open(\"bins_62k.pkl\", \"rb\") as f, open(\"bins_31k.pkl\", \"rb\") as g, open(\"bins_5k.pkl\", \"rb\") as h:\n",
    "    bins_62k = pickle.load(f)\n",
    "    bins_31k = pickle.load(g)  \n",
    "    bins_5k = pickle.load(h)\n",
    "\n",
    "fig, ax = plt.subplots(1,1, figsize=(15,8))\n",
    "plt.style.use('seaborn-whitegrid')\n",
    "ax.hist(na_list_62k, bins=int(len(bins_62k)/2), align='left', color='royalblue', label='62k', edgecolor='none')\n",
    "ax.hist(na_list_31k, bins=int(len(bins_31k)/2), align='left', color='crimson', label='31k', edgecolor='none')\n",
    "ax.hist(na_list_5k, bins=int(len(bins_5k)/2), align='left', color='orange', label='5k', edgecolor='none')\n",
    "ax.grid(linewidth=0.5)\n",
    "plt.tick_params(labelsize=35)\n",
    "plt.tick_params(labelsize=35)\n",
    "plt.xticks(fontsize=35)\n",
    "plt.yticks(fontsize=35)\n",
    "plt.xlabel('Number of atoms', fontsize=40)\n",
    "plt.ylabel('Number of molecules', fontsize=40)\n",
    "#plt.xlim(0,120)\n",
    "plt.legend(loc='best', fontsize=30, frameon=True, shadow=True)\n",
    "plt.show()"
   ]
  },
  {
   "cell_type": "code",
   "execution_count": null,
   "metadata": {
    "collapsed": true
   },
   "outputs": [],
   "source": []
  }
 ],
 "metadata": {
  "anaconda-cloud": {},
  "kernelspec": {
   "display_name": "Python [default]",
   "language": "python",
   "name": "python3"
  },
  "language_info": {
   "codemirror_mode": {
    "name": "ipython",
    "version": 3
   },
   "file_extension": ".py",
   "mimetype": "text/x-python",
   "name": "python",
   "nbconvert_exporter": "python",
   "pygments_lexer": "ipython3",
   "version": "3.5.2"
  }
 },
 "nbformat": 4,
 "nbformat_minor": 2
}
